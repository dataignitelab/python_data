{
 "cells": [
  {
   "cell_type": "code",
   "execution_count": 1,
   "metadata": {
    "ExecuteTime": {
     "end_time": "2019-05-06T11:00:58.865348Z",
     "start_time": "2019-05-06T11:00:58.531429Z"
    }
   },
   "outputs": [],
   "source": [
    "import pandas as pd"
   ]
  },
  {
   "cell_type": "code",
   "execution_count": 2,
   "metadata": {
    "ExecuteTime": {
     "end_time": "2019-05-06T11:00:58.873396Z",
     "start_time": "2019-05-06T11:00:58.866727Z"
    }
   },
   "outputs": [],
   "source": [
    "df = pd.read_csv(\"./data/laptops.csv\")"
   ]
  },
  {
   "cell_type": "code",
   "execution_count": 3,
   "metadata": {
    "ExecuteTime": {
     "end_time": "2019-05-06T11:00:58.884693Z",
     "start_time": "2019-05-06T11:00:58.875770Z"
    }
   },
   "outputs": [
    {
     "data": {
      "text/plain": [
       "0           Dell\n",
       "1          Apple\n",
       "2          Apple\n",
       "3          Apple\n",
       "4          Apple\n",
       "5          Apple\n",
       "6          Apple\n",
       "7          Apple\n",
       "8           Dell\n",
       "9           Dell\n",
       "10          Dell\n",
       "11          Dell\n",
       "12          Dell\n",
       "13          Dell\n",
       "14          Dell\n",
       "15          Acer\n",
       "16          Dell\n",
       "17          Acer\n",
       "18          Dell\n",
       "19          Acer\n",
       "20          Acer\n",
       "21          Dell\n",
       "22          Acer\n",
       "23          Dell\n",
       "24          Acer\n",
       "25          Dell\n",
       "26          Acer\n",
       "27          Acer\n",
       "28          Acer\n",
       "29          Acer\n",
       "         ...    \n",
       "137           HP\n",
       "138           HP\n",
       "139         Acer\n",
       "140           HP\n",
       "141           HP\n",
       "142           HP\n",
       "143         Acer\n",
       "144    Microsoft\n",
       "145           HP\n",
       "146           HP\n",
       "147    Microsoft\n",
       "148         Acer\n",
       "149    Microsoft\n",
       "150           HP\n",
       "151    Microsoft\n",
       "152           HP\n",
       "153    Microsoft\n",
       "154    Microsoft\n",
       "155       Lenovo\n",
       "156       Lenovo\n",
       "157       Lenovo\n",
       "158         Asus\n",
       "159         Asus\n",
       "160         Asus\n",
       "161         Asus\n",
       "162         Asus\n",
       "163         Asus\n",
       "164         Asus\n",
       "165         Asus\n",
       "166         Asus\n",
       "Name: brand, Length: 167, dtype: object"
      ]
     },
     "execution_count": 3,
     "metadata": {},
     "output_type": "execute_result"
    }
   ],
   "source": [
    "df[\"brand\"]"
   ]
  },
  {
   "cell_type": "code",
   "execution_count": 4,
   "metadata": {
    "ExecuteTime": {
     "end_time": "2019-05-06T11:00:58.890165Z",
     "start_time": "2019-05-06T11:00:58.886274Z"
    }
   },
   "outputs": [
    {
     "data": {
      "text/plain": [
       "array(['Dell', 'Apple', 'Acer', 'HP', 'Lenovo', 'Alienware', 'Microsoft',\n",
       "       'Asus'], dtype=object)"
      ]
     },
     "execution_count": 4,
     "metadata": {},
     "output_type": "execute_result"
    }
   ],
   "source": [
    "df[\"brand\"].unique()"
   ]
  },
  {
   "cell_type": "code",
   "execution_count": 5,
   "metadata": {
    "ExecuteTime": {
     "end_time": "2019-05-06T11:00:58.896848Z",
     "start_time": "2019-05-06T11:00:58.891453Z"
    }
   },
   "outputs": [
    {
     "data": {
      "text/plain": [
       "HP           55\n",
       "Acer         35\n",
       "Dell         31\n",
       "Lenovo       18\n",
       "Asus          9\n",
       "Apple         7\n",
       "Microsoft     6\n",
       "Alienware     6\n",
       "Name: brand, dtype: int64"
      ]
     },
     "execution_count": 5,
     "metadata": {},
     "output_type": "execute_result"
    }
   ],
   "source": [
    "df[\"brand\"].value_counts()"
   ]
  },
  {
   "cell_type": "code",
   "execution_count": 6,
   "metadata": {
    "ExecuteTime": {
     "end_time": "2019-05-06T11:00:58.904636Z",
     "start_time": "2019-05-06T11:00:58.898436Z"
    }
   },
   "outputs": [
    {
     "data": {
      "text/plain": [
       "count     167\n",
       "unique      8\n",
       "top        HP\n",
       "freq       55\n",
       "Name: brand, dtype: object"
      ]
     },
     "execution_count": 6,
     "metadata": {},
     "output_type": "execute_result"
    }
   ],
   "source": [
    "df[\"brand\"].describe()"
   ]
  }
 ],
 "metadata": {
  "hide_input": false,
  "kernelspec": {
   "display_name": "Python 3",
   "language": "python",
   "name": "python3"
  },
  "language_info": {
   "codemirror_mode": {
    "name": "ipython",
    "version": 3
   },
   "file_extension": ".py",
   "mimetype": "text/x-python",
   "name": "python",
   "nbconvert_exporter": "python",
   "pygments_lexer": "ipython3",
   "version": "3.7.3"
  },
  "toc": {
   "base_numbering": 1,
   "nav_menu": {},
   "number_sections": true,
   "sideBar": true,
   "skip_h1_title": false,
   "title_cell": "Table of Contents",
   "title_sidebar": "Contents",
   "toc_cell": false,
   "toc_position": {},
   "toc_section_display": true,
   "toc_window_display": false
  },
  "varInspector": {
   "cols": {
    "lenName": 16,
    "lenType": 16,
    "lenVar": 40
   },
   "kernels_config": {
    "python": {
     "delete_cmd_postfix": "",
     "delete_cmd_prefix": "del ",
     "library": "var_list.py",
     "varRefreshCmd": "print(var_dic_list())"
    },
    "r": {
     "delete_cmd_postfix": ") ",
     "delete_cmd_prefix": "rm(",
     "library": "var_list.r",
     "varRefreshCmd": "cat(var_dic_list()) "
    }
   },
   "types_to_exclude": [
    "module",
    "function",
    "builtin_function_or_method",
    "instance",
    "_Feature"
   ],
   "window_display": false
  }
 },
 "nbformat": 4,
 "nbformat_minor": 2
}
