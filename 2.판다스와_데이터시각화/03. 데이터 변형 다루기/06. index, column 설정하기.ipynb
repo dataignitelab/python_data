{
 "cells": [
  {
   "cell_type": "markdown",
   "metadata": {},
   "source": [
    "# 인덱스의 특징\n",
    "\n",
    "* 인덱스는 겹치지 말아야 한다. \n",
    "* 등번호는 겹치지 않기 때문에 인덱스에 좋다"
   ]
  },
  {
   "cell_type": "code",
   "execution_count": null,
   "metadata": {
    "ExecuteTime": {
     "end_time": "2019-05-06T10:46:42.106605Z",
     "start_time": "2019-05-06T10:46:41.733499Z"
    }
   },
   "outputs": [],
   "source": [
    "import pandas as pd"
   ]
  },
  {
   "cell_type": "code",
   "execution_count": null,
   "metadata": {
    "ExecuteTime": {
     "end_time": "2019-05-06T10:46:42.124096Z",
     "start_time": "2019-05-06T10:46:42.108171Z"
    }
   },
   "outputs": [],
   "source": [
    "df = pd.read_csv(\"./data/liverpool.csv\", index_col=0)\n",
    "df"
   ]
  },
  {
   "cell_type": "code",
   "execution_count": null,
   "metadata": {
    "ExecuteTime": {
     "end_time": "2019-05-06T10:46:42.133693Z",
     "start_time": "2019-05-06T10:46:42.125950Z"
    }
   },
   "outputs": [],
   "source": [
    "df.rename(columns={\"position\" : \"Position\"})\n",
    "df"
   ]
  },
  {
   "cell_type": "code",
   "execution_count": null,
   "metadata": {
    "ExecuteTime": {
     "end_time": "2019-05-06T10:46:42.143416Z",
     "start_time": "2019-05-06T10:46:42.135450Z"
    }
   },
   "outputs": [],
   "source": [
    "df.rename(columns={\"position\" : \"Position\",\n",
    "                  \"born\" : \"Born\",\n",
    "                  \"number\" : \"Number\",\n",
    "                  \"nationality\" : \"Nationality\"}, inplace=True)\n",
    "df"
   ]
  },
  {
   "cell_type": "code",
   "execution_count": null,
   "metadata": {
    "ExecuteTime": {
     "end_time": "2019-05-06T10:46:42.152135Z",
     "start_time": "2019-05-06T10:46:42.144753Z"
    }
   },
   "outputs": [],
   "source": [
    "df.index.name = \"Player Name\"\n",
    "df"
   ]
  },
  {
   "cell_type": "code",
   "execution_count": null,
   "metadata": {
    "ExecuteTime": {
     "end_time": "2019-05-06T10:46:42.158131Z",
     "start_time": "2019-05-06T10:46:42.153818Z"
    }
   },
   "outputs": [],
   "source": [
    "# 인덱스 변경\n",
    "# 인덱스 변경 전, 기존 인덱스를 새로운 컬럼에 지정해야 함\n",
    "df[\"Player Name\"] = df.index\n",
    "df.set_index(\"Number\", inplace=True)"
   ]
  },
  {
   "cell_type": "code",
   "execution_count": null,
   "metadata": {
    "ExecuteTime": {
     "end_time": "2019-05-06T10:46:42.166592Z",
     "start_time": "2019-05-06T10:46:42.159610Z"
    }
   },
   "outputs": [],
   "source": [
    "df"
   ]
  }
 ],
 "metadata": {
  "hide_input": false,
  "kernelspec": {
   "display_name": "Python 3",
   "language": "python",
   "name": "python3"
  },
  "language_info": {
   "codemirror_mode": {
    "name": "ipython",
    "version": 3
   },
   "file_extension": ".py",
   "mimetype": "text/x-python",
   "name": "python",
   "nbconvert_exporter": "python",
   "pygments_lexer": "ipython3",
   "version": "3.7.3"
  },
  "toc": {
   "base_numbering": 1,
   "nav_menu": {},
   "number_sections": true,
   "sideBar": true,
   "skip_h1_title": false,
   "title_cell": "Table of Contents",
   "title_sidebar": "Contents",
   "toc_cell": false,
   "toc_position": {},
   "toc_section_display": true,
   "toc_window_display": false
  },
  "varInspector": {
   "cols": {
    "lenName": 16,
    "lenType": 16,
    "lenVar": 40
   },
   "kernels_config": {
    "python": {
     "delete_cmd_postfix": "",
     "delete_cmd_prefix": "del ",
     "library": "var_list.py",
     "varRefreshCmd": "print(var_dic_list())"
    },
    "r": {
     "delete_cmd_postfix": ") ",
     "delete_cmd_prefix": "rm(",
     "library": "var_list.r",
     "varRefreshCmd": "cat(var_dic_list()) "
    }
   },
   "types_to_exclude": [
    "module",
    "function",
    "builtin_function_or_method",
    "instance",
    "_Feature"
   ],
   "window_display": false
  }
 },
 "nbformat": 4,
 "nbformat_minor": 2
}
