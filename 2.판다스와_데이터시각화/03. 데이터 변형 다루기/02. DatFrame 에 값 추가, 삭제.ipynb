{
 "cells": [
  {
   "cell_type": "code",
   "execution_count": null,
   "metadata": {
    "ExecuteTime": {
     "end_time": "2019-05-06T10:35:47.671635Z",
     "start_time": "2019-05-06T10:35:47.332236Z"
    }
   },
   "outputs": [],
   "source": [
    "import pandas as pd"
   ]
  },
  {
   "cell_type": "code",
   "execution_count": null,
   "metadata": {
    "ExecuteTime": {
     "end_time": "2019-05-06T10:35:47.689118Z",
     "start_time": "2019-05-06T10:35:47.673010Z"
    }
   },
   "outputs": [],
   "source": [
    "df = pd.read_csv(\"./data/iphone.csv\", index_col=0)\n",
    "df"
   ]
  },
  {
   "cell_type": "code",
   "execution_count": null,
   "metadata": {
    "ExecuteTime": {
     "end_time": "2019-05-06T10:35:47.695096Z",
     "start_time": "2019-05-06T10:35:47.690750Z"
    }
   },
   "outputs": [],
   "source": [
    "df.loc[\"iPhone X\"] = [\"2018-10-26\", 6.1, \"3GB\", \"iOS 12.0.1\", \"Yes\"]"
   ]
  },
  {
   "cell_type": "code",
   "execution_count": null,
   "metadata": {
    "ExecuteTime": {
     "end_time": "2019-05-06T10:35:47.704391Z",
     "start_time": "2019-05-06T10:35:47.696749Z"
    }
   },
   "outputs": [],
   "source": [
    "df"
   ]
  },
  {
   "cell_type": "code",
   "execution_count": null,
   "metadata": {
    "ExecuteTime": {
     "end_time": "2019-05-06T10:35:47.711134Z",
     "start_time": "2019-05-06T10:35:47.705621Z"
    }
   },
   "outputs": [],
   "source": [
    "df.loc[\"iPhone XR\"] = [\"2018-10-26\", 6.1, \"3GB\", \"iOS 12.0.1\", \"Yes\"]"
   ]
  },
  {
   "cell_type": "code",
   "execution_count": null,
   "metadata": {
    "ExecuteTime": {
     "end_time": "2019-05-06T10:35:47.721275Z",
     "start_time": "2019-05-06T10:35:47.712812Z"
    }
   },
   "outputs": [],
   "source": [
    "df"
   ]
  },
  {
   "cell_type": "code",
   "execution_count": null,
   "metadata": {
    "ExecuteTime": {
     "end_time": "2019-05-06T10:35:47.732017Z",
     "start_time": "2019-05-06T10:35:47.722653Z"
    }
   },
   "outputs": [],
   "source": [
    "df[\"제조사\"] = \"Apple\"\n",
    "df"
   ]
  },
  {
   "cell_type": "code",
   "execution_count": null,
   "metadata": {
    "ExecuteTime": {
     "end_time": "2019-05-06T10:35:47.743601Z",
     "start_time": "2019-05-06T10:35:47.733978Z"
    }
   },
   "outputs": [],
   "source": [
    "# index 는 pandas 에서 row 임\n",
    "df.drop(\"iPhone XR\", axis=0, inplace=False)\n",
    "# df.drop(\"iPhone XR\", axis=\"index\", inplace=False)"
   ]
  },
  {
   "cell_type": "code",
   "execution_count": null,
   "metadata": {
    "ExecuteTime": {
     "end_time": "2019-05-06T10:35:47.754774Z",
     "start_time": "2019-05-06T10:35:47.745612Z"
    }
   },
   "outputs": [],
   "source": [
    "df"
   ]
  },
  {
   "cell_type": "code",
   "execution_count": null,
   "metadata": {
    "ExecuteTime": {
     "end_time": "2019-05-06T10:35:47.765759Z",
     "start_time": "2019-05-06T10:35:47.756197Z"
    }
   },
   "outputs": [],
   "source": [
    "df.drop(\"제조사\", axis=\"columns\", inplace=True)\n",
    "# df.drop(\"제조사\", axis=1, inplace=True)\n",
    "df"
   ]
  },
  {
   "cell_type": "code",
   "execution_count": null,
   "metadata": {
    "ExecuteTime": {
     "end_time": "2019-05-06T10:35:47.770422Z",
     "start_time": "2019-05-06T10:35:47.767158Z"
    }
   },
   "outputs": [],
   "source": [
    "df.drop([\"iPhone 7\", \"iPhone 7\", \"iPhone X\"], axis=0, inplace=True)"
   ]
  },
  {
   "cell_type": "code",
   "execution_count": null,
   "metadata": {
    "ExecuteTime": {
     "end_time": "2019-05-06T10:35:47.779583Z",
     "start_time": "2019-05-06T10:35:47.771675Z"
    }
   },
   "outputs": [],
   "source": [
    "df"
   ]
  }
 ],
 "metadata": {
  "hide_input": false,
  "kernelspec": {
   "display_name": "Python 3",
   "language": "python",
   "name": "python3"
  },
  "language_info": {
   "codemirror_mode": {
    "name": "ipython",
    "version": 3
   },
   "file_extension": ".py",
   "mimetype": "text/x-python",
   "name": "python",
   "nbconvert_exporter": "python",
   "pygments_lexer": "ipython3",
   "version": "3.7.3"
  },
  "toc": {
   "base_numbering": 1,
   "nav_menu": {},
   "number_sections": true,
   "sideBar": true,
   "skip_h1_title": false,
   "title_cell": "Table of Contents",
   "title_sidebar": "Contents",
   "toc_cell": false,
   "toc_position": {},
   "toc_section_display": true,
   "toc_window_display": false
  },
  "varInspector": {
   "cols": {
    "lenName": 16,
    "lenType": 16,
    "lenVar": 40
   },
   "kernels_config": {
    "python": {
     "delete_cmd_postfix": "",
     "delete_cmd_prefix": "del ",
     "library": "var_list.py",
     "varRefreshCmd": "print(var_dic_list())"
    },
    "r": {
     "delete_cmd_postfix": ") ",
     "delete_cmd_prefix": "rm(",
     "library": "var_list.r",
     "varRefreshCmd": "cat(var_dic_list()) "
    }
   },
   "types_to_exclude": [
    "module",
    "function",
    "builtin_function_or_method",
    "instance",
    "_Feature"
   ],
   "window_display": false
  }
 },
 "nbformat": 4,
 "nbformat_minor": 2
}
