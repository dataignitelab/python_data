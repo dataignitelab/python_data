{
 "cells": [
  {
   "cell_type": "markdown",
   "metadata": {},
   "source": [
    "KDE(Kernel Density Estimation), 분포에 가깝게 데이터를 그릴 수 있음"
   ]
  },
  {
   "cell_type": "code",
   "execution_count": 1,
   "metadata": {
    "ExecuteTime": {
     "end_time": "2019-05-06T11:48:23.639433Z",
     "start_time": "2019-05-06T11:48:22.804717Z"
    }
   },
   "outputs": [],
   "source": [
    "import pandas as pd\n",
    "import seaborn as sns"
   ]
  },
  {
   "cell_type": "code",
   "execution_count": 2,
   "metadata": {
    "ExecuteTime": {
     "end_time": "2019-05-06T11:48:23.648036Z",
     "start_time": "2019-05-06T11:48:23.641290Z"
    }
   },
   "outputs": [],
   "source": [
    "df = pd.read_csv(\"./data/body.csv\", index_col=0)"
   ]
  },
  {
   "cell_type": "code",
   "execution_count": 3,
   "metadata": {
    "ExecuteTime": {
     "end_time": "2019-05-06T11:48:23.658394Z",
     "start_time": "2019-05-06T11:48:23.649835Z"
    }
   },
   "outputs": [
    {
     "data": {
      "text/html": [
       "<div>\n",
       "<style scoped>\n",
       "    .dataframe tbody tr th:only-of-type {\n",
       "        vertical-align: middle;\n",
       "    }\n",
       "\n",
       "    .dataframe tbody tr th {\n",
       "        vertical-align: top;\n",
       "    }\n",
       "\n",
       "    .dataframe thead th {\n",
       "        text-align: right;\n",
       "    }\n",
       "</style>\n",
       "<table border=\"1\" class=\"dataframe\">\n",
       "  <thead>\n",
       "    <tr style=\"text-align: right;\">\n",
       "      <th></th>\n",
       "      <th>Height</th>\n",
       "      <th>Weight</th>\n",
       "    </tr>\n",
       "    <tr>\n",
       "      <th>Number</th>\n",
       "      <th></th>\n",
       "      <th></th>\n",
       "    </tr>\n",
       "  </thead>\n",
       "  <tbody>\n",
       "    <tr>\n",
       "      <th>1</th>\n",
       "      <td>176.0</td>\n",
       "      <td>85.2</td>\n",
       "    </tr>\n",
       "    <tr>\n",
       "      <th>2</th>\n",
       "      <td>175.3</td>\n",
       "      <td>67.7</td>\n",
       "    </tr>\n",
       "    <tr>\n",
       "      <th>3</th>\n",
       "      <td>168.6</td>\n",
       "      <td>75.2</td>\n",
       "    </tr>\n",
       "    <tr>\n",
       "      <th>4</th>\n",
       "      <td>168.1</td>\n",
       "      <td>67.1</td>\n",
       "    </tr>\n",
       "    <tr>\n",
       "      <th>5</th>\n",
       "      <td>175.3</td>\n",
       "      <td>63.0</td>\n",
       "    </tr>\n",
       "  </tbody>\n",
       "</table>\n",
       "</div>"
      ],
      "text/plain": [
       "        Height  Weight\n",
       "Number                \n",
       "1        176.0    85.2\n",
       "2        175.3    67.7\n",
       "3        168.6    75.2\n",
       "4        168.1    67.1\n",
       "5        175.3    63.0"
      ]
     },
     "execution_count": 3,
     "metadata": {},
     "output_type": "execute_result"
    }
   ],
   "source": [
    "df.head()"
   ]
  },
  {
   "cell_type": "code",
   "execution_count": 4,
   "metadata": {
    "ExecuteTime": {
     "end_time": "2019-05-06T11:48:23.665892Z",
     "start_time": "2019-05-06T11:48:23.660032Z"
    }
   },
   "outputs": [
    {
     "data": {
      "text/plain": [
       "Number\n",
       "1       176.0\n",
       "2       175.3\n",
       "3       168.6\n",
       "4       168.1\n",
       "5       175.3\n",
       "6       175.4\n",
       "7       181.5\n",
       "8       174.2\n",
       "9       176.4\n",
       "10      175.8\n",
       "11      162.9\n",
       "12      176.2\n",
       "13      173.5\n",
       "14      163.9\n",
       "15      165.6\n",
       "16      176.4\n",
       "17      174.4\n",
       "18      178.4\n",
       "19      175.7\n",
       "20      178.2\n",
       "21      169.5\n",
       "22      160.0\n",
       "23      167.6\n",
       "24      171.2\n",
       "25      154.4\n",
       "26      177.7\n",
       "27      163.0\n",
       "28      180.4\n",
       "29      169.7\n",
       "30      184.8\n",
       "        ...  \n",
       "971     173.5\n",
       "972     171.7\n",
       "973     175.8\n",
       "974     170.6\n",
       "975     163.8\n",
       "976     180.4\n",
       "977     173.6\n",
       "978     178.3\n",
       "979     176.1\n",
       "980     172.8\n",
       "981     169.4\n",
       "982     169.2\n",
       "983     180.9\n",
       "984     180.8\n",
       "985     165.2\n",
       "986     163.2\n",
       "987     172.2\n",
       "988     178.9\n",
       "989     176.7\n",
       "990     177.4\n",
       "991     165.9\n",
       "992     175.2\n",
       "993     170.5\n",
       "994     171.9\n",
       "995     166.4\n",
       "996     171.8\n",
       "997     171.5\n",
       "998     177.9\n",
       "999     174.4\n",
       "1000    173.5\n",
       "Name: Height, Length: 1000, dtype: float64"
      ]
     },
     "execution_count": 4,
     "metadata": {},
     "output_type": "execute_result"
    }
   ],
   "source": [
    "df[\"Height\"]"
   ]
  },
  {
   "cell_type": "code",
   "execution_count": 5,
   "metadata": {
    "ExecuteTime": {
     "end_time": "2019-05-06T11:48:23.673070Z",
     "start_time": "2019-05-06T11:48:23.667335Z"
    }
   },
   "outputs": [
    {
     "data": {
      "text/plain": [
       "172.5    13\n",
       "174.9    13\n",
       "173.2    12\n",
       "175.2    12\n",
       "175.3    12\n",
       "172.9    11\n",
       "176.4    10\n",
       "174.4    10\n",
       "174.8    10\n",
       "172.4    10\n",
       "168.4     9\n",
       "172.2     9\n",
       "176.8     9\n",
       "175.8     9\n",
       "177.7     9\n",
       "174.7     9\n",
       "170.8     8\n",
       "169.7     8\n",
       "178.1     8\n",
       "173.6     8\n",
       "176.0     8\n",
       "176.2     8\n",
       "174.3     8\n",
       "170.5     8\n",
       "179.3     8\n",
       "169.4     8\n",
       "176.6     8\n",
       "180.4     8\n",
       "173.4     8\n",
       "176.1     7\n",
       "         ..\n",
       "183.2     1\n",
       "191.2     1\n",
       "161.7     1\n",
       "158.2     1\n",
       "184.3     1\n",
       "157.4     1\n",
       "157.8     1\n",
       "184.4     1\n",
       "185.4     1\n",
       "161.3     1\n",
       "162.8     1\n",
       "161.6     1\n",
       "161.1     1\n",
       "159.5     1\n",
       "158.4     1\n",
       "160.6     1\n",
       "160.1     1\n",
       "193.1     1\n",
       "168.3     1\n",
       "185.1     1\n",
       "164.9     1\n",
       "187.1     1\n",
       "154.4     1\n",
       "162.1     1\n",
       "162.9     1\n",
       "163.7     1\n",
       "185.7     1\n",
       "184.5     1\n",
       "176.5     1\n",
       "184.6     1\n",
       "Name: Height, Length: 262, dtype: int64"
      ]
     },
     "execution_count": 5,
     "metadata": {},
     "output_type": "execute_result"
    }
   ],
   "source": [
    "df[\"Height\"].value_counts()"
   ]
  },
  {
   "cell_type": "code",
   "execution_count": 6,
   "metadata": {
    "ExecuteTime": {
     "end_time": "2019-05-06T11:48:23.681284Z",
     "start_time": "2019-05-06T11:48:23.674599Z"
    }
   },
   "outputs": [
    {
     "data": {
      "text/plain": [
       "154.4    1\n",
       "155.5    1\n",
       "157.4    1\n",
       "157.8    1\n",
       "158.0    1\n",
       "158.2    1\n",
       "158.4    1\n",
       "158.7    3\n",
       "158.8    1\n",
       "159.5    1\n",
       "159.8    1\n",
       "160.0    3\n",
       "160.1    1\n",
       "160.2    1\n",
       "160.5    1\n",
       "160.6    1\n",
       "160.7    2\n",
       "160.9    1\n",
       "161.0    2\n",
       "161.1    1\n",
       "161.3    1\n",
       "161.5    1\n",
       "161.6    1\n",
       "161.7    1\n",
       "161.8    2\n",
       "161.9    2\n",
       "162.0    1\n",
       "162.1    1\n",
       "162.5    2\n",
       "162.6    1\n",
       "        ..\n",
       "183.5    2\n",
       "183.6    2\n",
       "183.7    2\n",
       "183.9    3\n",
       "184.0    1\n",
       "184.2    1\n",
       "184.3    1\n",
       "184.4    1\n",
       "184.5    1\n",
       "184.6    1\n",
       "184.8    1\n",
       "184.9    3\n",
       "185.0    2\n",
       "185.1    1\n",
       "185.3    1\n",
       "185.4    1\n",
       "185.5    2\n",
       "185.6    1\n",
       "185.7    1\n",
       "186.4    2\n",
       "187.1    1\n",
       "188.2    1\n",
       "188.9    1\n",
       "189.1    2\n",
       "189.4    1\n",
       "190.3    1\n",
       "191.2    1\n",
       "191.8    1\n",
       "192.4    1\n",
       "193.1    1\n",
       "Name: Height, Length: 262, dtype: int64"
      ]
     },
     "execution_count": 6,
     "metadata": {},
     "output_type": "execute_result"
    }
   ],
   "source": [
    "df[\"Height\"].value_counts().sort_index()"
   ]
  },
  {
   "cell_type": "code",
   "execution_count": 7,
   "metadata": {
    "ExecuteTime": {
     "end_time": "2019-05-06T11:48:23.816051Z",
     "start_time": "2019-05-06T11:48:23.682551Z"
    }
   },
   "outputs": [
    {
     "data": {
      "text/plain": [
       "<matplotlib.axes._subplots.AxesSubplot at 0x1a1d422c50>"
      ]
     },
     "execution_count": 7,
     "metadata": {},
     "output_type": "execute_result"
    },
    {
     "data": {
      "image/png": "[encoded data removed]",
      "text/plain": [
       "<Figure size 432x288 with 1 Axes>"
      ]
     },
     "metadata": {
      "needs_background": "light"
     },
     "output_type": "display_data"
    }
   ],
   "source": [
    "df[\"Height\"].value_counts().sort_index().plot()"
   ]
  },
  {
   "cell_type": "code",
   "execution_count": 8,
   "metadata": {
    "ExecuteTime": {
     "end_time": "2019-05-06T11:48:23.942526Z",
     "start_time": "2019-05-06T11:48:23.817990Z"
    }
   },
   "outputs": [
    {
     "data": {
      "text/plain": [
       "<matplotlib.axes._subplots.AxesSubplot at 0x1a1d8aac18>"
      ]
     },
     "execution_count": 8,
     "metadata": {},
     "output_type": "execute_result"
    },
    {
     "data": {
      "image/png": "[encoded data removed]",
      "text/plain": [
       "<Figure size 432x288 with 1 Axes>"
      ]
     },
     "metadata": {
      "needs_background": "light"
     },
     "output_type": "display_data"
    }
   ],
   "source": [
    "# 확률밀도함수\n",
    "# 실제 분포 값을 부드럽게(추측) 한 것이다. ==> KDE\n",
    "sns.kdeplot(df[\"Height\"])"
   ]
  },
  {
   "cell_type": "code",
   "execution_count": 9,
   "metadata": {
    "ExecuteTime": {
     "end_time": "2019-05-06T11:48:24.094604Z",
     "start_time": "2019-05-06T11:48:23.944560Z"
    }
   },
   "outputs": [
    {
     "data": {
      "text/plain": [
       "<matplotlib.axes._subplots.AxesSubplot at 0x10a3fdf60>"
      ]
     },
     "execution_count": 9,
     "metadata": {},
     "output_type": "execute_result"
    },
    {
     "data": {
      "image/png": "[encoded data removed]",
      "text/plain": [
       "<Figure size 432x288 with 1 Axes>"
      ]
     },
     "metadata": {
      "needs_background": "light"
     },
     "output_type": "display_data"
    }
   ],
   "source": [
    "# 부드러운 정도 bw\n",
    "sns.kdeplot(df[\"Height\"], bw=0.5)"
   ]
  },
  {
   "cell_type": "code",
   "execution_count": 10,
   "metadata": {
    "ExecuteTime": {
     "end_time": "2019-05-06T11:48:24.212749Z",
     "start_time": "2019-05-06T11:48:24.095720Z"
    }
   },
   "outputs": [
    {
     "data": {
      "text/plain": [
       "<matplotlib.axes._subplots.AxesSubplot at 0x10a6044a8>"
      ]
     },
     "execution_count": 10,
     "metadata": {},
     "output_type": "execute_result"
    },
    {
     "data": {
      "image/png": "[encoded data removed]",
      "text/plain": [
       "<Figure size 432x288 with 1 Axes>"
      ]
     },
     "metadata": {
      "needs_background": "light"
     },
     "output_type": "display_data"
    }
   ],
   "source": [
    "sns.kdeplot(df[\"Height\"], bw=2)"
   ]
  }
 ],
 "metadata": {
  "hide_input": false,
  "kernelspec": {
   "display_name": "Python 3",
   "language": "python",
   "name": "python3"
  },
  "language_info": {
   "codemirror_mode": {
    "name": "ipython",
    "version": 3
   },
   "file_extension": ".py",
   "mimetype": "text/x-python",
   "name": "python",
   "nbconvert_exporter": "python",
   "pygments_lexer": "ipython3",
   "version": "3.7.3"
  },
  "toc": {
   "base_numbering": 1,
   "nav_menu": {},
   "number_sections": true,
   "sideBar": true,
   "skip_h1_title": false,
   "title_cell": "Table of Contents",
   "title_sidebar": "Contents",
   "toc_cell": false,
   "toc_position": {},
   "toc_section_display": true,
   "toc_window_display": false
  },
  "varInspector": {
   "cols": {
    "lenName": 16,
    "lenType": 16,
    "lenVar": 40
   },
   "kernels_config": {
    "python": {
     "delete_cmd_postfix": "",
     "delete_cmd_prefix": "del ",
     "library": "var_list.py",
     "varRefreshCmd": "print(var_dic_list())"
    },
    "r": {
     "delete_cmd_postfix": ") ",
     "delete_cmd_prefix": "rm(",
     "library": "var_list.r",
     "varRefreshCmd": "cat(var_dic_list()) "
    }
   },
   "types_to_exclude": [
    "module",
    "function",
    "builtin_function_or_method",
    "instance",
    "_Feature"
   ],
   "window_display": false
  }
 },
 "nbformat": 4,
 "nbformat_minor": 2
}
