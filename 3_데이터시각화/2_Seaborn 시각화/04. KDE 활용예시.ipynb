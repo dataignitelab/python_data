{
 "cells": [
  {
   "cell_type": "code",
   "execution_count": null,
   "metadata": {
    "ExecuteTime": {
     "end_time": "2019-05-06T11:50:32.471897Z",
     "start_time": "2019-05-06T11:50:31.802499Z"
    }
   },
   "outputs": [],
   "source": [
    "import pandas as pd\n",
    "import seaborn as sns"
   ]
  },
  {
   "cell_type": "code",
   "execution_count": null,
   "metadata": {
    "ExecuteTime": {
     "end_time": "2019-05-06T11:50:32.479405Z",
     "start_time": "2019-05-06T11:50:32.473312Z"
    }
   },
   "outputs": [],
   "source": [
    "df = pd.read_csv(\"./data/body.csv\", index_col=0)"
   ]
  },
  {
   "cell_type": "code",
   "execution_count": null,
   "metadata": {
    "ExecuteTime": {
     "end_time": "2019-05-06T11:50:32.490089Z",
     "start_time": "2019-05-06T11:50:32.481151Z"
    }
   },
   "outputs": [],
   "source": [
    "df.head()"
   ]
  },
  {
   "cell_type": "code",
   "execution_count": null,
   "metadata": {
    "ExecuteTime": {
     "end_time": "2019-05-06T11:50:32.640453Z",
     "start_time": "2019-05-06T11:50:32.491945Z"
    }
   },
   "outputs": [],
   "source": [
    "df.plot(kind=\"hist\", y=\"Height\")"
   ]
  },
  {
   "cell_type": "code",
   "execution_count": null,
   "metadata": {
    "ExecuteTime": {
     "end_time": "2019-05-06T11:50:32.784360Z",
     "start_time": "2019-05-06T11:50:32.641533Z"
    }
   },
   "outputs": [],
   "source": [
    "df.plot(kind=\"hist\", y=\"Height\", bins=15)"
   ]
  },
  {
   "cell_type": "code",
   "execution_count": null,
   "metadata": {
    "ExecuteTime": {
     "end_time": "2019-05-06T11:50:32.948566Z",
     "start_time": "2019-05-06T11:50:32.786113Z"
    }
   },
   "outputs": [],
   "source": [
    "sns.distplot(df[\"Height\"], bins=15)"
   ]
  },
  {
   "cell_type": "code",
   "execution_count": null,
   "metadata": {
    "ExecuteTime": {
     "end_time": "2019-05-06T11:50:33.037633Z",
     "start_time": "2019-05-06T11:50:32.949615Z"
    }
   },
   "outputs": [],
   "source": [
    "df.plot(kind=\"box\", y=\"Height\")"
   ]
  },
  {
   "cell_type": "code",
   "execution_count": null,
   "metadata": {
    "ExecuteTime": {
     "end_time": "2019-05-06T11:50:33.133872Z",
     "start_time": "2019-05-06T11:50:33.039739Z"
    }
   },
   "outputs": [],
   "source": [
    "sns.violinplot(y=df[\"Height\"])"
   ]
  },
  {
   "cell_type": "code",
   "execution_count": null,
   "metadata": {
    "ExecuteTime": {
     "end_time": "2019-05-06T11:50:33.265863Z",
     "start_time": "2019-05-06T11:50:33.135758Z"
    }
   },
   "outputs": [],
   "source": [
    "df.plot(kind=\"scatter\", x=\"Height\", y=\"Weight\")"
   ]
  },
  {
   "cell_type": "code",
   "execution_count": null,
   "metadata": {
    "ExecuteTime": {
     "end_time": "2019-05-06T11:50:34.030479Z",
     "start_time": "2019-05-06T11:50:33.266903Z"
    }
   },
   "outputs": [],
   "source": [
    "sns.kdeplot(df[\"Height\"], df[\"Weight\"])"
   ]
  },
  {
   "cell_type": "code",
   "execution_count": null,
   "metadata": {
    "ExecuteTime": {
     "end_time": "2019-05-06T11:50:34.144867Z",
     "start_time": "2019-05-06T11:50:34.031596Z"
    }
   },
   "outputs": [],
   "source": [
    "sns.kdeplot(df[\"Height\"])"
   ]
  },
  {
   "cell_type": "code",
   "execution_count": null,
   "metadata": {
    "ExecuteTime": {
     "end_time": "2019-05-06T11:50:34.259377Z",
     "start_time": "2019-05-06T11:50:34.146289Z"
    }
   },
   "outputs": [],
   "source": [
    "sns.kdeplot(df[\"Weight\"])"
   ]
  }
 ],
 "metadata": {
  "hide_input": false,
  "kernelspec": {
   "display_name": "Python 3",
   "language": "python",
   "name": "python3"
  },
  "language_info": {
   "codemirror_mode": {
    "name": "ipython",
    "version": 3
   },
   "file_extension": ".py",
   "mimetype": "text/x-python",
   "name": "python",
   "nbconvert_exporter": "python",
   "pygments_lexer": "ipython3",
   "version": "3.7.3"
  },
  "toc": {
   "base_numbering": 1,
   "nav_menu": {},
   "number_sections": true,
   "sideBar": true,
   "skip_h1_title": false,
   "title_cell": "Table of Contents",
   "title_sidebar": "Contents",
   "toc_cell": false,
   "toc_position": {},
   "toc_section_display": true,
   "toc_window_display": false
  },
  "varInspector": {
   "cols": {
    "lenName": 16,
    "lenType": 16,
    "lenVar": 40
   },
   "kernels_config": {
    "python": {
     "delete_cmd_postfix": "",
     "delete_cmd_prefix": "del ",
     "library": "var_list.py",
     "varRefreshCmd": "print(var_dic_list())"
    },
    "r": {
     "delete_cmd_postfix": ") ",
     "delete_cmd_prefix": "rm(",
     "library": "var_list.r",
     "varRefreshCmd": "cat(var_dic_list()) "
    }
   },
   "types_to_exclude": [
    "module",
    "function",
    "builtin_function_or_method",
    "instance",
    "_Feature"
   ],
   "window_display": false
  }
 },
 "nbformat": 4,
 "nbformat_minor": 2
}
