{
 "cells": [
  {
   "cell_type": "code",
   "execution_count": null,
   "metadata": {
    "ExecuteTime": {
     "end_time": "2019-05-05T09:24:18.036365Z",
     "start_time": "2019-05-05T09:24:16.945955Z"
    }
   },
   "outputs": [],
   "source": [
    "import pandas as pd\n",
    "import seaborn as sns"
   ]
  },
  {
   "cell_type": "code",
   "execution_count": null,
   "metadata": {
    "ExecuteTime": {
     "end_time": "2019-05-05T09:24:33.429166Z",
     "start_time": "2019-05-05T09:24:33.404547Z"
    }
   },
   "outputs": [],
   "source": [
    "df = pd.read_csv(\"./data/laptops.csv\")\n",
    "df.head()"
   ]
  },
  {
   "cell_type": "code",
   "execution_count": null,
   "metadata": {
    "ExecuteTime": {
     "end_time": "2019-05-05T09:24:56.384726Z",
     "start_time": "2019-05-05T09:24:56.378854Z"
    }
   },
   "outputs": [],
   "source": [
    "df[\"os\"]"
   ]
  },
  {
   "cell_type": "code",
   "execution_count": null,
   "metadata": {
    "ExecuteTime": {
     "end_time": "2019-05-05T09:25:13.228608Z",
     "start_time": "2019-05-05T09:25:13.224238Z"
    }
   },
   "outputs": [],
   "source": [
    "df[\"os\"].unique()"
   ]
  },
  {
   "cell_type": "code",
   "execution_count": null,
   "metadata": {
    "ExecuteTime": {
     "end_time": "2019-05-05T09:26:13.074810Z",
     "start_time": "2019-05-05T09:26:12.896257Z"
    }
   },
   "outputs": [],
   "source": [
    "sns.catplot(data=df, x=\"os\", y=\"price\", kind=\"box\")"
   ]
  },
  {
   "cell_type": "code",
   "execution_count": null,
   "metadata": {
    "ExecuteTime": {
     "end_time": "2019-05-05T09:26:55.373405Z",
     "start_time": "2019-05-05T09:26:55.208241Z"
    }
   },
   "outputs": [],
   "source": [
    "sns.catplot(data=df, x=\"os\", y=\"price\", kind=\"violin\")"
   ]
  },
  {
   "cell_type": "code",
   "execution_count": null,
   "metadata": {
    "ExecuteTime": {
     "end_time": "2019-05-05T09:27:20.162966Z",
     "start_time": "2019-05-05T09:27:20.023673Z"
    }
   },
   "outputs": [],
   "source": [
    "sns.catplot(data=df, x=\"os\", y=\"price\", kind=\"strip\")"
   ]
  },
  {
   "cell_type": "code",
   "execution_count": null,
   "metadata": {
    "ExecuteTime": {
     "end_time": "2019-05-05T09:27:59.857693Z",
     "start_time": "2019-05-05T09:27:59.853568Z"
    }
   },
   "outputs": [],
   "source": [
    "df[\"processor_brand\"].unique()"
   ]
  },
  {
   "cell_type": "code",
   "execution_count": null,
   "metadata": {
    "ExecuteTime": {
     "end_time": "2019-05-05T09:28:29.593018Z",
     "start_time": "2019-05-05T09:28:29.402951Z"
    }
   },
   "outputs": [],
   "source": [
    "sns.catplot(data=df, x=\"os\", y=\"price\", kind=\"strip\", hue=\"processor_brand\")"
   ]
  },
  {
   "cell_type": "code",
   "execution_count": null,
   "metadata": {
    "ExecuteTime": {
     "end_time": "2019-05-05T09:29:19.247787Z",
     "start_time": "2019-05-05T09:29:19.034488Z"
    }
   },
   "outputs": [],
   "source": [
    "sns.catplot(data=df, x=\"os\", y=\"price\", kind=\"swarm\", hue=\"processor_brand\")"
   ]
  }
 ],
 "metadata": {
  "hide_input": false,
  "kernelspec": {
   "display_name": "Python 3",
   "language": "python",
   "name": "python3"
  },
  "language_info": {
   "codemirror_mode": {
    "name": "ipython",
    "version": 3
   },
   "file_extension": ".py",
   "mimetype": "text/x-python",
   "name": "python",
   "nbconvert_exporter": "python",
   "pygments_lexer": "ipython3",
   "version": "3.7.3"
  },
  "toc": {
   "base_numbering": 1,
   "nav_menu": {},
   "number_sections": true,
   "sideBar": true,
   "skip_h1_title": false,
   "title_cell": "Table of Contents",
   "title_sidebar": "Contents",
   "toc_cell": false,
   "toc_position": {},
   "toc_section_display": true,
   "toc_window_display": false
  },
  "varInspector": {
   "cols": {
    "lenName": 16,
    "lenType": 16,
    "lenVar": 40
   },
   "kernels_config": {
    "python": {
     "delete_cmd_postfix": "",
     "delete_cmd_prefix": "del ",
     "library": "var_list.py",
     "varRefreshCmd": "print(var_dic_list())"
    },
    "r": {
     "delete_cmd_postfix": ") ",
     "delete_cmd_prefix": "rm(",
     "library": "var_list.r",
     "varRefreshCmd": "cat(var_dic_list()) "
    }
   },
   "types_to_exclude": [
    "module",
    "function",
    "builtin_function_or_method",
    "instance",
    "_Feature"
   ],
   "window_display": false
  }
 },
 "nbformat": 4,
 "nbformat_minor": 2
}
