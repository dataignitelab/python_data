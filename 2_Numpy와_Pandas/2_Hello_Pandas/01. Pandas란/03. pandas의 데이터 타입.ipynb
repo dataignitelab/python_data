{
 "cells": [
  {
   "cell_type": "markdown",
   "metadata": {},
   "source": [
    "* pandas DataFrame에는 다양한 종류의 데이터를 담을 수 있음\n",
    "* dtypes를 사용해서 각 column이 어떤 데이터 타입을 보관하는지 확인 가능"
   ]
  },
  {
   "cell_type": "code",
   "execution_count": 1,
   "metadata": {
    "ExecuteTime": {
     "end_time": "2019-05-06T09:59:15.999050Z",
     "start_time": "2019-05-06T09:59:15.634835Z"
    }
   },
   "outputs": [],
   "source": [
    "import pandas as pd"
   ]
  },
  {
   "cell_type": "markdown",
   "metadata": {},
   "source": [
    "two_dimensional_list = [['Ryan', 50, 86], ['Mellisa', 89, 31], ['Rachael', 68, 91], ['Ramela', 88, 75]]"
   ]
  },
  {
   "cell_type": "code",
   "execution_count": null,
   "metadata": {},
   "outputs": [],
   "source": []
  },
  {
   "cell_type": "markdown",
   "metadata": {},
   "source": [
    "my_df = pd.DataFrame(two_dimensional_list, columns=['name', 'english_score', 'math_score'], index=['a', 'b', 'c', 'd'])"
   ]
  },
  {
   "cell_type": "code",
   "execution_count": null,
   "metadata": {},
   "outputs": [],
   "source": []
  },
  {
   "cell_type": "markdown",
   "metadata": {},
   "source": [
    "print(my_df.dtypes)"
   ]
  },
  {
   "cell_type": "code",
   "execution_count": null,
   "metadata": {},
   "outputs": [],
   "source": []
  },
  {
   "cell_type": "markdown",
   "metadata": {
    "ExecuteTime": {
     "end_time": "2019-05-01T03:50:37.958523Z",
     "start_time": "2019-05-01T03:50:37.954601Z"
    }
   },
   "source": [
    "* 위 경우 `name` column은 `object`라는 데이터 타입을 보관\n",
    "* `english_score`와 `math_score` column은 `int64`라는 데이터 타입을 보관\n",
    "* 한 column 내에서는 모든 값이 동일한 데이터 타입"
   ]
  },
  {
   "cell_type": "markdown",
   "metadata": {},
   "source": [
    "# pandas의 dtype들\n",
    "\n",
    "pandas에 담을 수 있는 dtype(데이터 타입)\n",
    "\n",
    "| **dtype**\t| **설명** |\n",
    "|:------|:------|\n",
    "| `int64`\t| 정수 |\n",
    "| `float64` | 소수 |\n",
    "| `object` | 텍스트 |\n",
    "| `bool`\t| 불린(참과 거짓) |\n",
    "| `datetime64` | 날짜와 시간 |\n",
    "| `category` | 카테고리 |"
   ]
  }
 ],
 "metadata": {
  "hide_input": false,
  "kernelspec": {
   "display_name": "Python 3",
   "language": "python",
   "name": "python3"
  },
  "language_info": {
   "codemirror_mode": {
    "name": "ipython",
    "version": 3
   },
   "file_extension": ".py",
   "mimetype": "text/x-python",
   "name": "python",
   "nbconvert_exporter": "python",
   "pygments_lexer": "ipython3",
   "version": "3.7.7"
  },
  "toc": {
   "base_numbering": 1,
   "nav_menu": {},
   "number_sections": true,
   "sideBar": true,
   "skip_h1_title": false,
   "title_cell": "Table of Contents",
   "title_sidebar": "Contents",
   "toc_cell": false,
   "toc_position": {},
   "toc_section_display": true,
   "toc_window_display": false
  },
  "varInspector": {
   "cols": {
    "lenName": 16,
    "lenType": 16,
    "lenVar": 40
   },
   "kernels_config": {
    "python": {
     "delete_cmd_postfix": "",
     "delete_cmd_prefix": "del ",
     "library": "var_list.py",
     "varRefreshCmd": "print(var_dic_list())"
    },
    "r": {
     "delete_cmd_postfix": ") ",
     "delete_cmd_prefix": "rm(",
     "library": "var_list.r",
     "varRefreshCmd": "cat(var_dic_list()) "
    }
   },
   "types_to_exclude": [
    "module",
    "function",
    "builtin_function_or_method",
    "instance",
    "_Feature"
   ],
   "window_display": false
  }
 },
 "nbformat": 4,
 "nbformat_minor": 2
}
