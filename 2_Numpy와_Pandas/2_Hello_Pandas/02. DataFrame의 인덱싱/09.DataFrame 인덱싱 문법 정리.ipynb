{
 "cells": [
  {
   "cell_type": "markdown",
   "metadata": {},
   "source": [
    "DataFrame 인덱싱을 하는 방법과 종류가 많아서 헷갈리기 쉽습니다.\n",
    "\n",
    "인덱싱이 익숙해져야 다음 내용을 쉽게 배울 수 있으니, 꼭 숙지하고 넘어가세요!"
   ]
  },
  {
   "cell_type": "markdown",
   "metadata": {},
   "source": [
    "# 이름으로 인덱싱\n",
    "\n",
    "| 이름으로 인덱싱하기           | 기본 형태                             | 단축 형태                      |\n",
    "|:----------------------------- |:------------------------------------- |:------------------------------ |\n",
    "| 하나의 row 이름               | `df.loc[\"row4\"]`                      |                                |\n",
    "| row 이름의 리스트             | `df.loc[[\"row4\", \"row5\", \"row3\"]]`    |                                |\n",
    "| row 이름의 리스트 슬라이싱    | `df.loc[\"row2\":\"row5\"]`               | `df[\"row2\":\"row5\"]`            |\n",
    "| 하나의 column 이름            | `df.loc[:, \"col1\"]`                   | `df[\"col1\"]`                   |\n",
    "| column 이름의 리스트          | `df.loc[:, [\"col4\", \"col6\", \"col3\"]]` | `df[[\"col4\", \"col6\", \"col3\"]]` |\n",
    "| column 이름의 리스트 슬라이싱 | `df.loc[:, \"col2\":\"col5\"]`            |                                |\n",
    "\n",
    "\n"
   ]
  },
  {
   "cell_type": "markdown",
   "metadata": {},
   "source": [
    "# 위치로 인덱싱\n",
    "\n",
    "| 위치로 인덱싱하기             | 기본 형태               | 단축 형태 |\n",
    "|:----------------------------- |:----------------------- |:--------- |\n",
    "| 하나의 row 위치               | `df.iloc[8]`            |           |\n",
    "| row 위치의 리스트             | `df.iloc[[4, 5, 3]]`    |           |\n",
    "| row 위치의 리스트 슬라이싱    | `df.iloc[2:5]`          | `df[2:5]` |\n",
    "| 하나의 column 위치            | `df.iloc[:, 3]`         |           |\n",
    "| column 위치의 리스트          | `df.iloc[:, [3, 5, 6]]` |           |\n",
    "| column 위치의 리스트 슬라이싱 | `df.iloc[:, 3:7]`       |           |\n",
    "\n",
    "\n"
   ]
  }
 ],
 "metadata": {
  "hide_input": false,
  "kernelspec": {
   "display_name": "Python 3",
   "language": "python",
   "name": "python3"
  },
  "language_info": {
   "codemirror_mode": {
    "name": "ipython",
    "version": 3
   },
   "file_extension": ".py",
   "mimetype": "text/x-python",
   "name": "python",
   "nbconvert_exporter": "python",
   "pygments_lexer": "ipython3",
   "version": "3.7.7"
  },
  "toc": {
   "base_numbering": 1,
   "nav_menu": {},
   "number_sections": true,
   "sideBar": true,
   "skip_h1_title": false,
   "title_cell": "Table of Contents",
   "title_sidebar": "Contents",
   "toc_cell": false,
   "toc_position": {},
   "toc_section_display": true,
   "toc_window_display": false
  },
  "varInspector": {
   "cols": {
    "lenName": 16,
    "lenType": 16,
    "lenVar": 40
   },
   "kernels_config": {
    "python": {
     "delete_cmd_postfix": "",
     "delete_cmd_prefix": "del ",
     "library": "var_list.py",
     "varRefreshCmd": "print(var_dic_list())"
    },
    "r": {
     "delete_cmd_postfix": ") ",
     "delete_cmd_prefix": "rm(",
     "library": "var_list.r",
     "varRefreshCmd": "cat(var_dic_list()) "
    }
   },
   "types_to_exclude": [
    "module",
    "function",
    "builtin_function_or_method",
    "instance",
    "_Feature"
   ],
   "window_display": false
  }
 },
 "nbformat": 4,
 "nbformat_minor": 2
}
