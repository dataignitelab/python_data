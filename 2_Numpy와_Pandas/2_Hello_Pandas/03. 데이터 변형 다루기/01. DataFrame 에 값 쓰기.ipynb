{
 "cells": [
  {
   "cell_type": "markdown",
   "metadata": {
    "ExecuteTime": {
     "end_time": "2019-05-06T10:33:45.033687Z",
     "start_time": "2019-05-06T10:33:44.667629Z"
    }
   },
   "source": [
    "import pandas as pd\n",
    "\n",
    "df = pd.read_csv(\"./data/iphone.csv\", index_col=0)\n"
   ]
  },
  {
   "cell_type": "code",
   "execution_count": null,
   "metadata": {},
   "outputs": [],
   "source": []
  },
  {
   "cell_type": "markdown",
   "metadata": {},
   "source": [
    "# 컬럼, 로우 값 변경하기"
   ]
  },
  {
   "cell_type": "markdown",
   "metadata": {
    "ExecuteTime": {
     "end_time": "2019-05-06T10:33:45.038353Z",
     "start_time": "2019-05-06T10:33:45.035339Z"
    }
   },
   "source": [
    "df.loc[\"iPhone 8\", \"메모리\"] = \"2.5GB\""
   ]
  },
  {
   "cell_type": "code",
   "execution_count": null,
   "metadata": {},
   "outputs": [],
   "source": []
  },
  {
   "cell_type": "markdown",
   "metadata": {
    "ExecuteTime": {
     "end_time": "2019-05-06T10:33:45.048036Z",
     "start_time": "2019-05-06T10:33:45.040566Z"
    }
   },
   "source": [
    "df"
   ]
  },
  {
   "cell_type": "code",
   "execution_count": null,
   "metadata": {},
   "outputs": [],
   "source": []
  },
  {
   "cell_type": "markdown",
   "metadata": {
    "ExecuteTime": {
     "end_time": "2019-05-06T10:33:45.057511Z",
     "start_time": "2019-05-06T10:33:45.049528Z"
    }
   },
   "source": [
    "df.loc[\"iPhone 8\", \"출시 버전\"] = \"iOS 10.3\"\n",
    "df"
   ]
  },
  {
   "cell_type": "code",
   "execution_count": null,
   "metadata": {},
   "outputs": [],
   "source": []
  },
  {
   "cell_type": "markdown",
   "metadata": {
    "ExecuteTime": {
     "end_time": "2019-05-06T10:33:45.064178Z",
     "start_time": "2019-05-06T10:33:45.058778Z"
    }
   },
   "source": [
    "df.loc[\"iPhone 8\"]"
   ]
  },
  {
   "cell_type": "code",
   "execution_count": null,
   "metadata": {},
   "outputs": [],
   "source": []
  },
  {
   "cell_type": "markdown",
   "metadata": {
    "ExecuteTime": {
     "end_time": "2019-05-06T10:33:45.070425Z",
     "start_time": "2019-05-06T10:33:45.065947Z"
    }
   },
   "source": [
    "df.loc[\"iPhone 8\"] = [\"2016-09-22\", \"4.7\", \"2GB\", \"iOS 11.0\", \"No\"]"
   ]
  },
  {
   "cell_type": "code",
   "execution_count": null,
   "metadata": {},
   "outputs": [],
   "source": []
  },
  {
   "cell_type": "markdown",
   "metadata": {
    "ExecuteTime": {
     "end_time": "2019-05-06T10:33:45.079864Z",
     "start_time": "2019-05-06T10:33:45.072028Z"
    }
   },
   "source": [
    "df"
   ]
  },
  {
   "cell_type": "code",
   "execution_count": null,
   "metadata": {},
   "outputs": [],
   "source": []
  },
  {
   "cell_type": "markdown",
   "metadata": {
    "ExecuteTime": {
     "end_time": "2019-05-06T10:33:45.086030Z",
     "start_time": "2019-05-06T10:33:45.081907Z"
    }
   },
   "source": [
    "df[\"디스플레이\"]"
   ]
  },
  {
   "cell_type": "code",
   "execution_count": null,
   "metadata": {},
   "outputs": [],
   "source": []
  },
  {
   "cell_type": "markdown",
   "metadata": {
    "ExecuteTime": {
     "end_time": "2019-05-06T10:33:45.090395Z",
     "start_time": "2019-05-06T10:33:45.087901Z"
    }
   },
   "source": [
    "df[\"디스플레이\"] = [\"4.7 in\", \"5.5 in\", \"4.7 in\", \"5.5 in\", \"5.8 in\", \"5.8 in\", \"6.5 in\"]"
   ]
  },
  {
   "cell_type": "code",
   "execution_count": null,
   "metadata": {},
   "outputs": [],
   "source": []
  },
  {
   "cell_type": "markdown",
   "metadata": {
    "ExecuteTime": {
     "end_time": "2019-05-06T10:33:45.099720Z",
     "start_time": "2019-05-06T10:33:45.091627Z"
    }
   },
   "source": [
    "df"
   ]
  },
  {
   "cell_type": "code",
   "execution_count": null,
   "metadata": {},
   "outputs": [],
   "source": []
  },
  {
   "cell_type": "markdown",
   "metadata": {
    "ExecuteTime": {
     "end_time": "2019-05-06T10:33:45.104904Z",
     "start_time": "2019-05-06T10:33:45.100935Z"
    }
   },
   "source": [
    "df[\"Face ID\"]"
   ]
  },
  {
   "cell_type": "code",
   "execution_count": null,
   "metadata": {},
   "outputs": [],
   "source": []
  },
  {
   "cell_type": "markdown",
   "metadata": {
    "ExecuteTime": {
     "end_time": "2019-05-06T10:33:45.109170Z",
     "start_time": "2019-05-06T10:33:45.106287Z"
    }
   },
   "source": [
    "df[\"Face ID\"] = [\"no\", \"no\", \"no\", \"no\", \"no\", \"no\", \"no\"]"
   ]
  },
  {
   "cell_type": "code",
   "execution_count": null,
   "metadata": {},
   "outputs": [],
   "source": []
  },
  {
   "cell_type": "markdown",
   "metadata": {
    "ExecuteTime": {
     "end_time": "2019-05-06T10:33:45.118907Z",
     "start_time": "2019-05-06T10:33:45.110709Z"
    }
   },
   "source": [
    "df"
   ]
  },
  {
   "cell_type": "code",
   "execution_count": null,
   "metadata": {},
   "outputs": [],
   "source": []
  },
  {
   "cell_type": "markdown",
   "metadata": {
    "ExecuteTime": {
     "end_time": "2019-05-06T10:33:45.122472Z",
     "start_time": "2019-05-06T10:33:45.120228Z"
    }
   },
   "source": [
    "df[\"Face ID\"] = \"Yes\""
   ]
  },
  {
   "cell_type": "code",
   "execution_count": null,
   "metadata": {},
   "outputs": [],
   "source": []
  },
  {
   "cell_type": "markdown",
   "metadata": {
    "ExecuteTime": {
     "end_time": "2019-05-06T10:33:45.131682Z",
     "start_time": "2019-05-06T10:33:45.123815Z"
    }
   },
   "source": [
    "df"
   ]
  },
  {
   "cell_type": "code",
   "execution_count": null,
   "metadata": {},
   "outputs": [],
   "source": []
  },
  {
   "cell_type": "markdown",
   "metadata": {},
   "source": [
    "# 여러 로우 값 변경하기"
   ]
  },
  {
   "cell_type": "markdown",
   "metadata": {
    "ExecuteTime": {
     "end_time": "2019-05-06T10:33:45.162184Z",
     "start_time": "2019-05-06T10:33:45.133157Z"
    }
   },
   "source": [
    "df[[\"디스플레이\", \"Face ID\"]]"
   ]
  },
  {
   "cell_type": "code",
   "execution_count": null,
   "metadata": {},
   "outputs": [],
   "source": []
  },
  {
   "cell_type": "markdown",
   "metadata": {
    "ExecuteTime": {
     "end_time": "2019-05-06T10:33:45.167088Z",
     "start_time": "2019-05-06T10:33:45.163661Z"
    }
   },
   "source": [
    "df[[\"디스플레이\", \"Face ID\"]] = \"x\""
   ]
  },
  {
   "cell_type": "code",
   "execution_count": null,
   "metadata": {},
   "outputs": [],
   "source": []
  },
  {
   "cell_type": "markdown",
   "metadata": {
    "ExecuteTime": {
     "end_time": "2019-05-06T10:33:45.177250Z",
     "start_time": "2019-05-06T10:33:45.168646Z"
    }
   },
   "source": [
    "df"
   ]
  },
  {
   "cell_type": "code",
   "execution_count": null,
   "metadata": {},
   "outputs": [],
   "source": []
  },
  {
   "cell_type": "markdown",
   "metadata": {
    "ExecuteTime": {
     "end_time": "2019-05-06T10:33:45.187095Z",
     "start_time": "2019-05-06T10:33:45.178588Z"
    }
   },
   "source": [
    "df.loc[[\"iPhone 7\", \"iPhone X\"]]"
   ]
  },
  {
   "cell_type": "code",
   "execution_count": null,
   "metadata": {},
   "outputs": [],
   "source": []
  },
  {
   "cell_type": "markdown",
   "metadata": {
    "ExecuteTime": {
     "end_time": "2019-05-06T10:33:45.191867Z",
     "start_time": "2019-05-06T10:33:45.188460Z"
    }
   },
   "source": [
    "df.loc[[\"iPhone 7\", \"iPhone X\"]] = \"o\""
   ]
  },
  {
   "cell_type": "code",
   "execution_count": null,
   "metadata": {},
   "outputs": [],
   "source": []
  },
  {
   "cell_type": "markdown",
   "metadata": {
    "ExecuteTime": {
     "end_time": "2019-05-06T10:33:45.201494Z",
     "start_time": "2019-05-06T10:33:45.193461Z"
    }
   },
   "source": [
    "df"
   ]
  },
  {
   "cell_type": "code",
   "execution_count": null,
   "metadata": {},
   "outputs": [],
   "source": []
  },
  {
   "cell_type": "markdown",
   "metadata": {
    "ExecuteTime": {
     "end_time": "2019-05-06T10:33:45.205507Z",
     "start_time": "2019-05-06T10:33:45.203075Z"
    }
   },
   "source": [
    "df.loc[\"iPhone 7\": \"iPhone X\"] = \"o\""
   ]
  },
  {
   "cell_type": "code",
   "execution_count": null,
   "metadata": {},
   "outputs": [],
   "source": []
  },
  {
   "cell_type": "markdown",
   "metadata": {
    "ExecuteTime": {
     "end_time": "2019-05-06T10:33:45.217161Z",
     "start_time": "2019-05-06T10:33:45.208803Z"
    }
   },
   "source": [
    "df"
   ]
  },
  {
   "cell_type": "code",
   "execution_count": null,
   "metadata": {},
   "outputs": [],
   "source": []
  },
  {
   "cell_type": "markdown",
   "metadata": {
    "ExecuteTime": {
     "end_time": "2019-05-06T10:33:45.230771Z",
     "start_time": "2019-05-06T10:33:45.220029Z"
    }
   },
   "source": [
    "df = pd.read_csv(\"./data/iphone.csv\", index_col=0)\n",
    "\n",
    "df"
   ]
  },
  {
   "cell_type": "code",
   "execution_count": null,
   "metadata": {},
   "outputs": [],
   "source": []
  },
  {
   "cell_type": "markdown",
   "metadata": {
    "ExecuteTime": {
     "end_time": "2019-05-06T10:33:45.236273Z",
     "start_time": "2019-05-06T10:33:45.232015Z"
    }
   },
   "source": [
    "df[\"디스플레이\"] > 5"
   ]
  },
  {
   "cell_type": "code",
   "execution_count": null,
   "metadata": {},
   "outputs": [],
   "source": []
  },
  {
   "cell_type": "markdown",
   "metadata": {
    "ExecuteTime": {
     "end_time": "2019-05-06T10:33:45.246726Z",
     "start_time": "2019-05-06T10:33:45.237530Z"
    }
   },
   "source": [
    "df.loc[df[\"디스플레이\"] > 5]"
   ]
  },
  {
   "cell_type": "code",
   "execution_count": null,
   "metadata": {},
   "outputs": [],
   "source": []
  },
  {
   "cell_type": "markdown",
   "metadata": {
    "ExecuteTime": {
     "end_time": "2019-05-06T10:33:45.253837Z",
     "start_time": "2019-05-06T10:33:45.248244Z"
    }
   },
   "source": [
    "df.loc[df[\"디스플레이\"] > 5] = \"p\""
   ]
  },
  {
   "cell_type": "code",
   "execution_count": null,
   "metadata": {},
   "outputs": [],
   "source": []
  },
  {
   "cell_type": "markdown",
   "metadata": {
    "ExecuteTime": {
     "end_time": "2019-05-06T10:33:45.262887Z",
     "start_time": "2019-05-06T10:33:45.255218Z"
    }
   },
   "source": [
    "df"
   ]
  },
  {
   "cell_type": "code",
   "execution_count": null,
   "metadata": {},
   "outputs": [],
   "source": []
  },
  {
   "cell_type": "markdown",
   "metadata": {
    "ExecuteTime": {
     "end_time": "2019-05-06T10:33:45.271421Z",
     "start_time": "2019-05-06T10:33:45.264193Z"
    }
   },
   "source": [
    "df.iloc[[1, 3], [1, 4]]"
   ]
  },
  {
   "cell_type": "code",
   "execution_count": null,
   "metadata": {},
   "outputs": [],
   "source": []
  },
  {
   "cell_type": "code",
   "execution_count": null,
   "metadata": {},
   "outputs": [],
   "source": []
  }
 ],
 "metadata": {
  "hide_input": false,
  "kernelspec": {
   "display_name": "Python 3",
   "language": "python",
   "name": "python3"
  },
  "language_info": {
   "codemirror_mode": {
    "name": "ipython",
    "version": 3
   },
   "file_extension": ".py",
   "mimetype": "text/x-python",
   "name": "python",
   "nbconvert_exporter": "python",
   "pygments_lexer": "ipython3",
   "version": "3.7.7"
  },
  "toc": {
   "base_numbering": 1,
   "nav_menu": {},
   "number_sections": true,
   "sideBar": true,
   "skip_h1_title": false,
   "title_cell": "Table of Contents",
   "title_sidebar": "Contents",
   "toc_cell": false,
   "toc_position": {},
   "toc_section_display": true,
   "toc_window_display": true
  },
  "varInspector": {
   "cols": {
    "lenName": 16,
    "lenType": 16,
    "lenVar": 40
   },
   "kernels_config": {
    "python": {
     "delete_cmd_postfix": "",
     "delete_cmd_prefix": "del ",
     "library": "var_list.py",
     "varRefreshCmd": "print(var_dic_list())"
    },
    "r": {
     "delete_cmd_postfix": ") ",
     "delete_cmd_prefix": "rm(",
     "library": "var_list.r",
     "varRefreshCmd": "cat(var_dic_list()) "
    }
   },
   "types_to_exclude": [
    "module",
    "function",
    "builtin_function_or_method",
    "instance",
    "_Feature"
   ],
   "window_display": false
  }
 },
 "nbformat": 4,
 "nbformat_minor": 2
}
