{
 "cells": [
  {
   "cell_type": "markdown",
   "metadata": {},
   "source": [
    "# 문제\n",
    "\n",
    "* 각 과목을 수강하는 학생수에 따라 크기가 다른 강의실을 배치하고자 한다. \n",
    "* 데이터이름: enrolment_2.csv\n",
    "* 강의실은 규모에 따라 “Auditorium”, “Large”, “Medium”, “Small” 총 4가지 종류가 있다.\n",
    "\n",
    "아래 조건에 따라 강의실 종류를 지정해 주세요.\n",
    "\n",
    "1. 80명 이상의 학생이 수강하는 과목은 “Auditorium”에서 진행\n",
    "1. 40명 이상, 80명 미만의 학생이 수강하는 과목은 “Large”에서 진행\n",
    "1. 15명 이상, 40명 미만의 학생이 수강하는 과목은 “Medium”에서 진행\n",
    "1. 5명 이상, 15명 미만의 학생이 수강하는 과목은 “Small”에서 진행\n",
    "1. 폐강 등의 이유로 status가 “not allowed”인 수강생은 room assignment 또한 “not assigned”가 되어야 함\n",
    "\n",
    "![코드잇 대학교 - 강의실 배정하기 1](./images/m2eg4Sr.png)"
   ]
  },
  {
   "cell_type": "code",
   "execution_count": null,
   "metadata": {
    "ExecuteTime": {
     "end_time": "2019-05-06T11:11:43.882340Z",
     "start_time": "2019-05-06T11:11:43.657666Z"
    }
   },
   "outputs": [],
   "source": [
    "import pandas as pd\n",
    "\n",
    "df = pd.read_csv('data/enrolment_2.csv')"
   ]
  }
 ],
 "metadata": {
  "hide_input": false,
  "kernelspec": {
   "display_name": "Python 3",
   "language": "python",
   "name": "python3"
  },
  "language_info": {
   "codemirror_mode": {
    "name": "ipython",
    "version": 3
   },
   "file_extension": ".py",
   "mimetype": "text/x-python",
   "name": "python",
   "nbconvert_exporter": "python",
   "pygments_lexer": "ipython3",
   "version": "3.7.3"
  },
  "toc": {
   "base_numbering": 1,
   "nav_menu": {},
   "number_sections": true,
   "sideBar": true,
   "skip_h1_title": false,
   "title_cell": "Table of Contents",
   "title_sidebar": "Contents",
   "toc_cell": false,
   "toc_position": {},
   "toc_section_display": true,
   "toc_window_display": true
  },
  "varInspector": {
   "cols": {
    "lenName": 16,
    "lenType": 16,
    "lenVar": 40
   },
   "kernels_config": {
    "python": {
     "delete_cmd_postfix": "",
     "delete_cmd_prefix": "del ",
     "library": "var_list.py",
     "varRefreshCmd": "print(var_dic_list())"
    },
    "r": {
     "delete_cmd_postfix": ") ",
     "delete_cmd_prefix": "rm(",
     "library": "var_list.r",
     "varRefreshCmd": "cat(var_dic_list()) "
    }
   },
   "types_to_exclude": [
    "module",
    "function",
    "builtin_function_or_method",
    "instance",
    "_Feature"
   ],
   "window_display": false
  }
 },
 "nbformat": 4,
 "nbformat_minor": 2
}
