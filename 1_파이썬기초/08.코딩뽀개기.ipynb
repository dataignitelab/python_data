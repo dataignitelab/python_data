{
 "cells": [
  {
   "cell_type": "markdown",
   "metadata": {
    "slideshow": {
     "slide_type": "slide"
    }
   },
   "source": [
    "### 다양한 문제를 파이썬으로 풀어봅시다!~"
   ]
  },
  {
   "cell_type": "markdown",
   "metadata": {},
   "source": [
    "### Q1. \n",
    "\n",
    "#### 반복문을 사용하여 0부터 n까지의 합 출력하기\n",
    "\n",
    "0부터 n까지의 연속된 숫자의 합을 계산하여 화면에 출력하는 프로그램을 작성해보자.  \n",
    "단, n은 사용자로부터 입력 받아도 되고 직접 코드로 작성해도 상관없다."
   ]
  },
  {
   "cell_type": "code",
   "execution_count": 4,
   "metadata": {
    "tags": [
     "hidecode"
    ]
   },
   "outputs": [],
   "source": [
    "# 템플릿 코드\n",
    "def print_to_n(n):\n",
    "    i = 0\n",
    "    sum = 0\n",
    "    while(i <= n):\n",
    "        i += 1\n",
    "    print(sum)"
   ]
  },
  {
   "cell_type": "code",
   "execution_count": 5,
   "metadata": {},
   "outputs": [
    {
     "name": "stdout",
     "output_type": "stream",
     "text": [
      "0\n"
     ]
    }
   ],
   "source": [
    "print_to_n(30)"
   ]
  },
  {
   "cell_type": "markdown",
   "metadata": {},
   "source": [
    "### Q2. \n",
    "\n",
    "#### 반복문을 사용하여 0부터 n까지의 출력하기\n",
    "\n",
    "1부터 20까지의 연속된 숫자를 화면에 출력하는 프로그램을 반복문을 사용하여 작성해보자.\n",
    "- 1부터 순서대로 화면에 출력\n",
    "- 출력하는 숫자가 n이되면 프로그램을 종료"
   ]
  },
  {
   "cell_type": "code",
   "execution_count": null,
   "metadata": {},
   "outputs": [],
   "source": []
  },
  {
   "cell_type": "markdown",
   "metadata": {},
   "source": [
    "### Q3. \n",
    "\n",
    "#### 3과 5의 배수 계산하기\n",
    "\n",
    "3의 배수이면서 동시에 5의 배수인 숫자를 구해보자. 1부터 n까지 반복하면서 3의 배수이면서 5의 배수인 숫자를 구하기\n",
    "- 배수의 개념을 코드로 구현\n",
    "- 3의 배수이면서 5의 배수인지 확인하는 코드 작성\n",
    "- 반복문을 사용하여 1부터 n까지 1씩 변수 확인"
   ]
  },
  {
   "cell_type": "code",
   "execution_count": null,
   "metadata": {},
   "outputs": [],
   "source": []
  },
  {
   "cell_type": "markdown",
   "metadata": {},
   "source": [
    "### Q4. \n",
    "\n",
    "#### 자연수 n이 소수인지 아닌지 판별\n",
    "\n",
    "주어진 숫자가 소수(prime number)인지 판별해보자.  \n",
    "소수는 0보다 큰 자연수인 약수가 1과 자기 자신뿐인 숫자를 의미한다.  \n",
    "2, 3, 5, 6, 11, 13 등이 해당한다.  \n",
    "- 반복문을 사용하여 주어진 숫자 n을 2부터 n-1까지 반복하면서 나눈다.\n",
    "- 나눈 결과가 하나라도 나눈 몫을 구할 수 있으면 소수가 아니다(합성수)\n",
    "- 위 반복문이 끝난 결과로 변수가 주어진 n과 같으면 소수이고, 아니면 합성수이다."
   ]
  },
  {
   "cell_type": "code",
   "execution_count": null,
   "metadata": {},
   "outputs": [],
   "source": []
  },
  {
   "cell_type": "markdown",
   "metadata": {},
   "source": [
    "### Q5. \n",
    "\n",
    "#### 이름 찾기\n",
    "\n",
    "주어진 문자열(공백 없이 쉼표로 구분되어 있음)을 가지고 아래 문제에 대한 프로그램을 작성하세요.\n",
    "\n",
    ">이유덕,이재영,권종표,이재영,박민호,강상희,이재영,김지완,최승혁,이성연,박영서,박민호,전경헌,송정환,김재성,이유덕,전경헌\n",
    "\n",
    "- 김씨와 이씨는 각각 몇 명 인가요?\n",
    "- \"이재영\"이란 이름이 몇 번 반복되나요?\n",
    "- 중복을 제거한 이름을 출력하세요.\n",
    "- 중복을 제거한 이름을 오름차순으로 정렬하여 출력하세요."
   ]
  },
  {
   "cell_type": "code",
   "execution_count": 11,
   "metadata": {},
   "outputs": [],
   "source": [
    "A = \"이유덕,이재영,권종표,이재영,박민호,강상희,이재영,김지완,최승혁,이성연,박영서,박민호,전경헌,송정환,김재성,이유덕,전경헌\""
   ]
  },
  {
   "cell_type": "code",
   "execution_count": null,
   "metadata": {},
   "outputs": [],
   "source": []
  },
  {
   "cell_type": "markdown",
   "metadata": {},
   "source": [
    "### Q6.\n",
    "\n",
    "#### 점수 분포  출력하기\n",
    "\n",
    "0부터 100까지 주어진 점수들을 10점씩 묶어서 각 점수대별로 정렬하는 알고리즘 코드를 작성해보세요.  \n",
    "예를들어 0점대는 3명, 10점대는 2명, 20점대는 5명 등의 표현형식으로 점수별 분포를 출력\n",
    "\n",
    "#### 조건\n",
    "- 끝은 -1로 확인\n",
    "\n",
    "#### 힌트\n",
    "rank = a[i] // 10"
   ]
  },
  {
   "cell_type": "code",
   "execution_count": 45,
   "metadata": {},
   "outputs": [],
   "source": [
    "a = [75, 25, 6, 73, 43, 46, 31, 13, 60, 90, 5, 43, 35, 65, 100, 28, 83, 95, 35, 45, -1]"
   ]
  },
  {
   "cell_type": "code",
   "execution_count": null,
   "metadata": {},
   "outputs": [],
   "source": []
  },
  {
   "cell_type": "code",
   "execution_count": null,
   "metadata": {},
   "outputs": [],
   "source": []
  }
 ],
 "metadata": {
  "kernelspec": {
   "display_name": "Python 3",
   "language": "python",
   "name": "python3"
  },
  "language_info": {
   "codemirror_mode": {
    "name": "ipython",
    "version": 3
   },
   "file_extension": ".py",
   "mimetype": "text/x-python",
   "name": "python",
   "nbconvert_exporter": "python",
   "pygments_lexer": "ipython3",
   "version": "3.7.7"
  }
 },
 "nbformat": 4,
 "nbformat_minor": 2
}
