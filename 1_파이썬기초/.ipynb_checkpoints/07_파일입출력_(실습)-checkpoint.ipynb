{
 "cells": [
  {
   "cell_type": "code",
   "execution_count": 1,
   "metadata": {},
   "outputs": [],
   "source": [
    "# friends.txt를 다운받아서 같은 폴더에 넣은 다음 프로그램을 실행합니다. \n",
    "import os, re, codecs"
   ]
  },
  {
   "cell_type": "markdown",
   "metadata": {},
   "source": [
    "#### 자신의 저장경로를 입력해야 합니다. \n",
    "os.chdir(r'./')\n",
    "\n",
    "f = open('./friends101.txt', 'r', encoding = 'utf-8')\n",
    "\n",
    "script101 = f.read()"
   ]
  },
  {
   "cell_type": "code",
   "execution_count": null,
   "metadata": {},
   "outputs": [],
   "source": []
  },
  {
   "cell_type": "markdown",
   "metadata": {},
   "source": [
    "#### 문자열 객체 슬라이싱\n",
    "print(script101[:100])"
   ]
  },
  {
   "cell_type": "code",
   "execution_count": null,
   "metadata": {},
   "outputs": [],
   "source": []
  },
  {
   "cell_type": "markdown",
   "metadata": {},
   "source": [
    "Line = re.findall(r'Monica:.+', script101)\n",
    "#### 리스트 요소 중 앞에서 3개까지만 출력\n",
    "print(Line[:3])\n",
    "#### 모니카의 대사만 모으기 \n",
    "Line = re.findall(r'Monica:.+', script101)"
   ]
  },
  {
   "cell_type": "code",
   "execution_count": null,
   "metadata": {},
   "outputs": [],
   "source": []
  },
  {
   "cell_type": "markdown",
   "metadata": {},
   "source": [
    "#### monica.txt 파일 만들기\n",
    "f = open('monica.txt', 'w', encoding = 'utf-8')\n",
    "\n",
    "monica = ''\n",
    "\n",
    "for i in Line:\n",
    "\n",
    "    monica += i +'\\n'\n",
    "\n",
    "f.write(monica)\n",
    "#### 파일 닫기 \n",
    "f.close()\t"
   ]
  },
  {
   "cell_type": "code",
   "execution_count": null,
   "metadata": {},
   "outputs": [],
   "source": []
  },
  {
   "cell_type": "markdown",
   "metadata": {},
   "source": [
    "#### 모니카의 대사만 출력해보기\n",
    "for item in Line[:3]:\n",
    "    \n",
    "    print(item)"
   ]
  },
  {
   "cell_type": "code",
   "execution_count": null,
   "metadata": {},
   "outputs": [],
   "source": []
  },
  {
   "cell_type": "markdown",
   "metadata": {},
   "source": [
    "#### 등장인물 이름 모으기 \n",
    "print(re.findall(r'[A-Z][a-z]+: ', script101) )"
   ]
  },
  {
   "cell_type": "code",
   "execution_count": null,
   "metadata": {},
   "outputs": [],
   "source": []
  },
  {
   "cell_type": "code",
   "execution_count": null,
   "metadata": {},
   "outputs": [],
   "source": []
  },
  {
   "cell_type": "markdown",
   "metadata": {},
   "source": [
    "#### 중복 지우기\n",
    "print(set(re.findall(r'[A-Z][a-z]+: ', script101)))"
   ]
  },
  {
   "cell_type": "code",
   "execution_count": null,
   "metadata": {},
   "outputs": [],
   "source": []
  },
  {
   "cell_type": "markdown",
   "metadata": {},
   "source": [
    "#### 캐릭터 이름 한 줄로 출력하기\n",
    "character = [x[:-2] for x in list(set(re.findall(r'[A-Z][a-z]+: ',script101)))]"
   ]
  },
  {
   "cell_type": "code",
   "execution_count": null,
   "metadata": {},
   "outputs": [],
   "source": []
  },
  {
   "cell_type": "markdown",
   "metadata": {},
   "source": [
    "#### 캐릭터 이름 각각 출력하기 \n",
    "for i in character:\n",
    "   \n",
    "    print(i)"
   ]
  },
  {
   "cell_type": "code",
   "execution_count": null,
   "metadata": {},
   "outputs": [],
   "source": []
  },
  {
   "cell_type": "markdown",
   "metadata": {},
   "source": [
    "#### 지문만 출력하기\n",
    "re.findall(r'\\([A-Za-z].+[a-z|\\.]\\)', script101, re.VERBOSE) [:6]\n",
    "\n",
    "f = open('friends101.txt','r')\n",
    "\n",
    "sentences = f.readlines()"
   ]
  },
  {
   "cell_type": "code",
   "execution_count": null,
   "metadata": {},
   "outputs": [],
   "source": []
  },
  {
   "cell_type": "markdown",
   "metadata": {},
   "source": [
    "#### 20개만 출력해보기\n",
    "for i in sentences[:20]:\t\t\t## 먼저 문장 20개만 가져와 실험해 보겠습니다\n",
    "    \n",
    "    if re.match(r'[A-Z][a-z]+:', i): \t## match 문으로 문장 맨 앞에서 패턴을 찾습니다 \n",
    "    \n",
    "        print(i)"
   ]
  },
  {
   "cell_type": "code",
   "execution_count": null,
   "metadata": {},
   "outputs": [],
   "source": []
  },
  {
   "cell_type": "markdown",
   "metadata": {},
   "source": [
    "#### would가 나오는 문장만 추출하기 \n",
    "would = [ i for i in sentences if re.match(r'[A-Z][a-z]+:', i) and re.search('would', i)]"
   ]
  },
  {
   "cell_type": "code",
   "execution_count": null,
   "metadata": {},
   "outputs": [],
   "source": []
  },
  {
   "cell_type": "markdown",
   "metadata": {},
   "source": [
    "#### take가 들어간 문장만 추출하기 \n",
    "take = [ i for i in sentences if re.match(r'[A-Z][a-z]+:', i) and re.search(' take',i)]"
   ]
  },
  {
   "cell_type": "code",
   "execution_count": null,
   "metadata": {},
   "outputs": [],
   "source": []
  },
  {
   "cell_type": "markdown",
   "metadata": {},
   "source": [
    "#### take가 들어간 문장 출력하기\n",
    "for i in take:\n",
    "\n",
    "    print(i)"
   ]
  },
  {
   "cell_type": "code",
   "execution_count": null,
   "metadata": {},
   "outputs": [],
   "source": []
  },
  {
   "cell_type": "markdown",
   "metadata": {},
   "source": [
    "for i in would:\n",
    "\n",
    "    print(i)"
   ]
  },
  {
   "cell_type": "code",
   "execution_count": null,
   "metadata": {},
   "outputs": [],
   "source": []
  },
  {
   "cell_type": "markdown",
   "metadata": {},
   "source": [
    "#### would가 들어간 문장 파일로 만들기 \n",
    "newf = open('would.txt','w')\t\n",
    "\n",
    "newf.writelines(would)\t\t"
   ]
  },
  {
   "cell_type": "code",
   "execution_count": null,
   "metadata": {},
   "outputs": [],
   "source": []
  },
  {
   "cell_type": "code",
   "execution_count": null,
   "metadata": {},
   "outputs": [],
   "source": []
  }
 ],
 "metadata": {
  "kernelspec": {
   "display_name": "base",
   "language": "python",
   "name": "base"
  },
  "language_info": {
   "codemirror_mode": {
    "name": "ipython",
    "version": 3
   },
   "file_extension": ".py",
   "mimetype": "text/x-python",
   "name": "python",
   "nbconvert_exporter": "python",
   "pygments_lexer": "ipython3",
   "version": "3.7.6"
  }
 },
 "nbformat": 4,
 "nbformat_minor": 4
}
