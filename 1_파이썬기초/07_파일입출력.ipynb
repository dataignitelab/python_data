{
 "cells": [
  {
   "cell_type": "markdown",
   "metadata": {},
   "source": [
    "### 파일 생성하기"
   ]
  },
  {
   "cell_type": "markdown",
   "metadata": {},
   "source": [
    "- 파일 객체 = open(파일 이름, 파일 열기 모드)"
   ]
  },
  {
   "cell_type": "markdown",
   "metadata": {},
   "source": [
    "f = open(\"새파일.txt\", 'w')\n",
    "\n",
    "f.close()"
   ]
  },
  {
   "cell_type": "code",
   "execution_count": null,
   "metadata": {},
   "outputs": [],
   "source": []
  },
  {
   "cell_type": "markdown",
   "metadata": {},
   "source": [
    "\n",
    "#### 파일열기모드\t설명\n",
    "- r\t읽기모드 - 파일을 읽기만 할 때 사용\n",
    "- w\t쓰기모드 - 파일에 내용을 쓸 때 사용\n",
    "- a\t추가모드 - 파일의 마지막에 새로운 내용을 추가 시킬 때 사용"
   ]
  },
  {
   "cell_type": "markdown",
   "metadata": {},
   "source": [
    "### 파일을 쓰기 모드로 열어 출력값 적기"
   ]
  },
  {
   "cell_type": "markdown",
   "metadata": {},
   "source": [
    "#### writedata.py\n",
    "\n",
    "f = open(\"./새파일.txt\", 'w')\n",
    "\n",
    "for i in range(1, 11):\n",
    "\n",
    "    data = \"%d번째 줄입니다.\\n\" % i\n",
    "    \n",
    "    f.write(data)\n",
    "\n",
    "f.close()"
   ]
  },
  {
   "cell_type": "markdown",
   "metadata": {},
   "source": [
    "### 프로그램의 외부에 저장된 파일을 읽는 여러 가지 방법\n",
    "- 방금만든 새파일을 불러오기"
   ]
  },
  {
   "cell_type": "markdown",
   "metadata": {},
   "source": [
    "#### 한줄 읽기\n",
    "#### readline_test.py\n",
    "\n",
    "f = open(\"./새파일.txt\", 'r')\n",
    "\n",
    "line = f.readline()\n",
    "\n",
    "print(line)\n",
    "\n",
    "f.close()"
   ]
  },
  {
   "cell_type": "code",
   "execution_count": null,
   "metadata": {},
   "outputs": [],
   "source": []
  },
  {
   "cell_type": "markdown",
   "metadata": {},
   "source": [
    "#### 모든 줄 읽기\n",
    "#### readline_all.py\n",
    "\n",
    "f = open(\"./새파일.txt\", 'r')\n",
    "\n",
    "while True:\n",
    "\n",
    "    line = f.readline()\n",
    "    \n",
    "    if not line: break\n",
    "    \n",
    "    print(line)\n",
    "\n",
    "f.close()"
   ]
  },
  {
   "cell_type": "code",
   "execution_count": null,
   "metadata": {},
   "outputs": [],
   "source": []
  },
  {
   "cell_type": "markdown",
   "metadata": {},
   "source": [
    "#### readlines() 함수 이용하기\n"
   ]
  },
  {
   "cell_type": "markdown",
   "metadata": {},
   "source": [
    "f = open(\"./새파일.txt\", 'r')\n",
    "\n",
    "lines = f.readlines()\n",
    "\n",
    "for line in lines:\n",
    "\n",
    "    print(line)\n",
    "\n",
    "f.close()"
   ]
  },
  {
   "cell_type": "code",
   "execution_count": null,
   "metadata": {},
   "outputs": [],
   "source": []
  },
  {
   "cell_type": "markdown",
   "metadata": {},
   "source": [
    "f = open(\"./새파일.txt\", 'r')\n",
    "\n",
    "data = f.read()\n",
    "\n",
    "print(data)\n",
    "\n",
    "f.close()"
   ]
  },
  {
   "cell_type": "code",
   "execution_count": null,
   "metadata": {},
   "outputs": [],
   "source": []
  },
  {
   "cell_type": "markdown",
   "metadata": {},
   "source": [
    "### 파일에 새로운 내용 추가하기"
   ]
  },
  {
   "cell_type": "markdown",
   "metadata": {},
   "source": [
    "- 쓰기 모드('w')로 파일을 열 때 이미 존재하는 파일을 열 경우 그 파일의 내용이 모두 사라진다\n",
    "- 'a'모드로 추가할 수 있다."
   ]
  },
  {
   "cell_type": "markdown",
   "metadata": {},
   "source": [
    "#### adddata.py\n",
    "\n",
    "f = open(\"./새파일.txt\",'a')\n",
    "\n",
    "for i in range(11, 20):\n",
    "\n",
    "    data = \"%d번째 줄입니다.\\n\" % i\n",
    "    \n",
    "    f.write(data)\n",
    "\n",
    "f.close()"
   ]
  },
  {
   "cell_type": "markdown",
   "metadata": {},
   "source": [
    "### with문과 함께 사용하기\n",
    "- with문을 이용하면 with 블록을 벗어나는 순간 열린 파일 객체 f가 자동으로 close되어 편리"
   ]
  },
  {
   "cell_type": "markdown",
   "metadata": {},
   "source": [
    "f = open(\"foo.txt\", 'w')\n",
    "\n",
    "f.write(\"Life is too short, you need python\")\n",
    "\n",
    "f.close()"
   ]
  },
  {
   "cell_type": "code",
   "execution_count": null,
   "metadata": {},
   "outputs": [],
   "source": []
  },
  {
   "cell_type": "markdown",
   "metadata": {},
   "source": [
    "with open(\"foo.txt\", \"w\") as f:\n",
    "\n",
    "    f.write(\"Life is too short, you need python\")"
   ]
  },
  {
   "cell_type": "code",
   "execution_count": null,
   "metadata": {},
   "outputs": [],
   "source": []
  },
  {
   "cell_type": "markdown",
   "metadata": {},
   "source": [
    "## 실습문제"
   ]
  },
  {
   "cell_type": "markdown",
   "metadata": {},
   "source": [
    "### Q1. \n",
    "\n",
    "다음과 같은 내용의 파일 abc.txt가 있다."
   ]
  },
  {
   "cell_type": "markdown",
   "metadata": {},
   "source": [
    "abc.txt\n",
    "\n",
    ">AAA  \n",
    "BBB  \n",
    "CCC  \n",
    "DDD  \n",
    "EEE\n",
    "\n",
    "이 파일의 내용을 다음과 같이 역순으로 바꾸어 저장하시오."
   ]
  },
  {
   "cell_type": "markdown",
   "metadata": {},
   "source": [
    ">EEE  \n",
    "DDD  \n",
    "CCC  \n",
    "BBB  \n",
    "AAA  "
   ]
  },
  {
   "cell_type": "markdown",
   "metadata": {},
   "source": [
    "### Q2. \n",
    "\n",
    "다음과 같은 내용을 지닌 파일 test.txt 가 있다.\n",
    "\n",
    "test.txt\n",
    "\n",
    ">Life is too short  \n",
    "you need java\n",
    "\n",
    "이 파일의 내용중 java라는 문자열을 python으로 바꾸어서 저장하시오."
   ]
  },
  {
   "cell_type": "markdown",
   "metadata": {},
   "source": [
    "### Q3\n",
    "다음과 같이 총 10줄로 이루어진 sample.txt 파일이 있다.\n",
    "\n",
    "sample.txt\n",
    "\n",
    ">70  \n",
    "60  \n",
    "55  \n",
    "75  \n",
    "95  \n",
    "90  \n",
    "80  \n",
    "80  \n",
    "85  \n",
    "100  \n",
    "\n",
    "sample.txt 파일의 숫자값을 모두 읽어 총합과 평균값을 구한 후 평균값을 result.txt라는 파일에 쓰는 프로그램을 작성해 보자."
   ]
  },
  {
   "cell_type": "code",
   "execution_count": null,
   "metadata": {},
   "outputs": [],
   "source": []
  }
 ],
 "metadata": {
  "kernelspec": {
   "display_name": "Python 3",
   "language": "python",
   "name": "python3"
  },
  "language_info": {
   "codemirror_mode": {
    "name": "ipython",
    "version": 3
   },
   "file_extension": ".py",
   "mimetype": "text/x-python",
   "name": "python",
   "nbconvert_exporter": "python",
   "pygments_lexer": "ipython3",
   "version": "3.7.7"
  }
 },
 "nbformat": 4,
 "nbformat_minor": 2
}
