{
 "cells": [
  {
   "cell_type": "markdown",
   "metadata": {},
   "source": [
    "# Explooratory Data Analysis(EDA)\n",
    "\n",
    "주어진 데이터셋을 다양한 관점에서 살펴보고 탐색하면서 인사이트를 찾는 것\n",
    "\n",
    "* 각 row는 무엇을 의미하는가\n",
    "* 각 column은 무엇을 의미하는가\n",
    "* 각 column은 어떤 분포를 보이는가\n",
    "* 두 column은 어떤 연관성이 있는가\n",
    "* 등등\n",
    "\n",
    "예를 들어 설문조사 결과 EDA\n",
    "\n",
    "* 몇 명이 참여했는지\n",
    "* 연령대\n",
    "* 최종학력\n",
    "* 가족관계\n",
    "* 관심사\n",
    "* 등등\n",
    "\n",
    "EDA는 공식이 없다. 그냥 다양한 방법으로 데이터를 살펴보는 것이다. **통계기법** 과 **시각화** 가장 많이 사용한다. "
   ]
  },
  {
   "cell_type": "markdown",
   "metadata": {},
   "source": [
    "# 기본 정보 파악하기\n",
    "\n",
    "* 데이터이름: `young_survey.csv`\n",
    "* 설문조사: 컬럼 147개, 로우 997개\n",
    "  - 0~18: 음악 취향\n",
    "  - 19~30: 영화 취향\n",
    "  - 31~62: 취미/관심사\n",
    "  - 63~72: 공포증\n",
    "  - 73~75: 건강 습관\n",
    "  - 76~132: 성격, 인생관 등\n",
    "  - 133~139: 소비 습관\n",
    "  - 140~146: 기본 정보"
   ]
  },
  {
   "cell_type": "code",
   "execution_count": null,
   "metadata": {
    "ExecuteTime": {
     "end_time": "2019-05-05T11:21:34.477968Z",
     "start_time": "2019-05-05T11:21:33.601578Z"
    }
   },
   "outputs": [],
   "source": [
    "import pandas as pd\n",
    "import seaborn as sns"
   ]
  },
  {
   "cell_type": "markdown",
   "metadata": {
    "ExecuteTime": {
     "end_time": "2019-05-05T11:21:46.816083Z",
     "start_time": "2019-05-05T11:21:46.762692Z"
    }
   },
   "source": [
    "df = pd.read_csv(\"./data/young_survey.csv\") \\\n",
    "df.head()"
   ]
  },
  {
   "cell_type": "code",
   "execution_count": null,
   "metadata": {},
   "outputs": [],
   "source": []
  },
  {
   "cell_type": "markdown",
   "metadata": {
    "ExecuteTime": {
     "end_time": "2019-05-05T11:22:03.310824Z",
     "start_time": "2019-05-05T11:22:03.307062Z"
    }
   },
   "source": [
    "df.shape"
   ]
  },
  {
   "cell_type": "code",
   "execution_count": null,
   "metadata": {},
   "outputs": [],
   "source": []
  },
  {
   "cell_type": "markdown",
   "metadata": {
    "ExecuteTime": {
     "end_time": "2019-05-05T11:22:54.138402Z",
     "start_time": "2019-05-05T11:22:54.126245Z"
    }
   },
   "source": [
    "basic_info = df.iloc[:, 140:] \\\n",
    "basic_info.head()"
   ]
  },
  {
   "cell_type": "code",
   "execution_count": null,
   "metadata": {},
   "outputs": [],
   "source": []
  },
  {
   "cell_type": "markdown",
   "metadata": {
    "ExecuteTime": {
     "end_time": "2019-05-05T11:23:35.078363Z",
     "start_time": "2019-05-05T11:23:35.057131Z"
    }
   },
   "source": [
    "### 숫자로 된 컬럼만 통계기반 분석"
   ]
  },
  {
   "cell_type": "markdown",
   "metadata": {},
   "source": [
    "basic_info.describe()"
   ]
  },
  {
   "cell_type": "code",
   "execution_count": null,
   "metadata": {},
   "outputs": [],
   "source": []
  },
  {
   "cell_type": "markdown",
   "metadata": {
    "ExecuteTime": {
     "end_time": "2019-05-05T11:24:56.234401Z",
     "start_time": "2019-05-05T11:24:56.228539Z"
    }
   },
   "source": [
    "basic_info[\"Gender\"].value_counts()"
   ]
  },
  {
   "cell_type": "code",
   "execution_count": null,
   "metadata": {},
   "outputs": [],
   "source": []
  },
  {
   "cell_type": "markdown",
   "metadata": {
    "ExecuteTime": {
     "end_time": "2019-05-05T11:25:07.143110Z",
     "start_time": "2019-05-05T11:25:07.137751Z"
    }
   },
   "source": [
    "basic_info[\"Handedness\"].value_counts()"
   ]
  },
  {
   "cell_type": "code",
   "execution_count": null,
   "metadata": {},
   "outputs": [],
   "source": []
  },
  {
   "cell_type": "markdown",
   "metadata": {
    "ExecuteTime": {
     "end_time": "2019-05-05T11:25:20.224243Z",
     "start_time": "2019-05-05T11:25:20.218748Z"
    }
   },
   "source": [
    "basic_info[\"Education\"].value_counts()"
   ]
  },
  {
   "cell_type": "code",
   "execution_count": null,
   "metadata": {},
   "outputs": [],
   "source": []
  },
  {
   "cell_type": "markdown",
   "metadata": {
    "ExecuteTime": {
     "end_time": "2019-05-05T11:25:48.044344Z",
     "start_time": "2019-05-05T11:25:47.931702Z"
    }
   },
   "source": [
    "sns.violinplot(data=basic_info, y=\"Age\")"
   ]
  },
  {
   "cell_type": "code",
   "execution_count": null,
   "metadata": {},
   "outputs": [],
   "source": []
  },
  {
   "cell_type": "markdown",
   "metadata": {
    "ExecuteTime": {
     "end_time": "2019-05-05T11:26:22.896903Z",
     "start_time": "2019-05-05T11:26:22.760913Z"
    }
   },
   "source": [
    "sns.violinplot(data=basic_info, x=\"Gender\", y=\"Age\")"
   ]
  },
  {
   "cell_type": "code",
   "execution_count": null,
   "metadata": {},
   "outputs": [],
   "source": []
  },
  {
   "cell_type": "markdown",
   "metadata": {
    "ExecuteTime": {
     "end_time": "2019-05-05T11:27:00.073906Z",
     "start_time": "2019-05-05T11:26:59.897701Z"
    }
   },
   "source": [
    "sns.violinplot(data=basic_info, x=\"Gender\", y=\"Age\", hue=\"Handedness\")"
   ]
  },
  {
   "cell_type": "code",
   "execution_count": null,
   "metadata": {},
   "outputs": [],
   "source": []
  },
  {
   "cell_type": "markdown",
   "metadata": {
    "ExecuteTime": {
     "end_time": "2019-05-05T11:27:38.822513Z",
     "start_time": "2019-05-05T11:27:38.478292Z"
    }
   },
   "source": [
    "sns.jointplot(data=basic_info, x=\"Height\", y=\"Weight\")"
   ]
  },
  {
   "cell_type": "code",
   "execution_count": null,
   "metadata": {},
   "outputs": [],
   "source": []
  }
 ],
 "metadata": {
  "hide_input": false,
  "kernelspec": {
   "display_name": "Python 3",
   "language": "python",
   "name": "python3"
  },
  "language_info": {
   "codemirror_mode": {
    "name": "ipython",
    "version": 3
   },
   "file_extension": ".py",
   "mimetype": "text/x-python",
   "name": "python",
   "nbconvert_exporter": "python",
   "pygments_lexer": "ipython3",
   "version": "3.7.7"
  },
  "toc": {
   "base_numbering": 1,
   "nav_menu": {},
   "number_sections": true,
   "sideBar": true,
   "skip_h1_title": false,
   "title_cell": "Table of Contents",
   "title_sidebar": "Contents",
   "toc_cell": false,
   "toc_position": {},
   "toc_section_display": true,
   "toc_window_display": false
  },
  "varInspector": {
   "cols": {
    "lenName": 16,
    "lenType": 16,
    "lenVar": 40
   },
   "kernels_config": {
    "python": {
     "delete_cmd_postfix": "",
     "delete_cmd_prefix": "del ",
     "library": "var_list.py",
     "varRefreshCmd": "print(var_dic_list())"
    },
    "r": {
     "delete_cmd_postfix": ") ",
     "delete_cmd_prefix": "rm(",
     "library": "var_list.r",
     "varRefreshCmd": "cat(var_dic_list()) "
    }
   },
   "types_to_exclude": [
    "module",
    "function",
    "builtin_function_or_method",
    "instance",
    "_Feature"
   ],
   "window_display": false
  }
 },
 "nbformat": 4,
 "nbformat_minor": 2
}
