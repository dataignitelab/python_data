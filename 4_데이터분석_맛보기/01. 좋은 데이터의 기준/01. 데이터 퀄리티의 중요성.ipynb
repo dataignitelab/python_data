{
 "cells": [
  {
   "cell_type": "markdown",
   "metadata": {},
   "source": [
    "# 개요\n",
    "\n",
    "* 데이터를 분석하기 전에 깔끔한 데이터로 만드는 것이 가장 중요\n",
    "* 좋은 알고리듬을 사용해도 데이터의 퀄리티가 좋지 않으면 안 좋은 결과가 나옴\n",
    "* 이태원 역 앞에 식당 차릴 때, 1번출구일까? 4번출구일까?\n",
    "  - 5개월 매출 기록\n",
    "    - [1번출구]\n",
    "      - 40, 50, 20, 80, 1,300,000\n",
    "      - 평균 매출: 260,038\n",
    "    - [4번출구]\n",
    "      - 390, 450, 990, 840, 570\n",
    "      - 평균 매출: 648\n",
    "\n",
    "* 데이터가 작기 때문에 눈으로 볼 수 있지만(eye-mining) 데이터가 커지면 보이지 않는다. \n",
    "* 데이터의 형식이 맞지 않으면 데이터 분석은 어렵다\n"
   ]
  },
  {
   "cell_type": "markdown",
   "metadata": {},
   "source": [
    "# 완결성(Completeness)\n",
    "\n",
    "* 필수적인 데이터는 모두 기록되어 있어야 한다. \n",
    "* 회원가입시, 필수항목과 선택항목\n",
    "  - 필수항목: 아이디, 비밀번호, 이름, 나이, 성별\n",
    "  - 선택항목: 전화번호, 주소\n",
    "* 필수항목 중, 나이, 성별이 누락되면 완결성이 부족한 데이터다.\n",
    "* 데이터 완결성은 어떻게 확인할 수 있을까?\n",
    "  - 결측값 확인으로 알수 있다. \n",
    "* 결측값이란? 채워져야 하는데 비어 있는 값\n",
    "* 결측값이 존재하면 완결성이 없는 데이터다\n",
    "* Pandas 에서는 NaN: Not a Number 으로 표현함"
   ]
  },
  {
   "cell_type": "markdown",
   "metadata": {},
   "source": [
    "# 유일성(Uniqueness)\n",
    "\n",
    "* 동일한 제품이 2번 이상 나오면 유일성의 문제가 있다\n",
    "* 해당 제품을 수정할 때, 하나만 수정하면 다른 데이터는 틀린 데이터가 된다.\n",
    "* 중복체크 예\n",
    "  - 이메일 인증하기\n",
    "  - 주민번호 본인 확인\n",
    "  - 휴대폰 번호 본인 확인"
   ]
  },
  {
   "cell_type": "markdown",
   "metadata": {},
   "source": [
    "# 통일성(Conformity)\n",
    "\n",
    "* 데이터가 동일한 형식으로 저자 되어 있어야 함\n",
    "* 데이터 타입: int64, float, string, object\n",
    "* 단위: kg, lb, km, in, ft, ml, gal, bl\n",
    "* 포맷: 서울 vs. Seoul / 1시간 vs. 60분 / 1,000 vs. 1000, 띄어쓰기 등\n",
    "\n",
    "| 출발지 | 도착지 | 금액     | 예상 소요시간 |\n",
    "| ------ | ------ | -------- | ------------- |\n",
    "| 서울   | 속초   | 13800원  | 145분         |\n",
    "| 서울   | 광양   | 21200    | 4시간 10분    |\n",
    "| 서울   | 전주   | 12800    | 2시간 40분    |\n",
    "| Seoul  | 동대구 | 17,000   | 3.5 시간      |\n",
    "| 서울   | 부산   | 228000원 | 4시간 20분    |"
   ]
  },
  {
   "cell_type": "markdown",
   "metadata": {},
   "source": [
    "# 정확성(Accuracy)\n",
    "\n",
    "* 데이터가 정확해야 한다. \n",
    "* 부정확한 데이터는 혼란을 야기\n",
    "* 보통 데이터 수집시 정확성 오류가 발생함\n",
    "* 정확한 것을 확인하는 것은 매우 어려움\n",
    "* 이상점(Outlier): 다른 값과 심하게 동 떨어진 값"
   ]
  }
 ],
 "metadata": {
  "hide_input": false,
  "kernelspec": {
   "display_name": "Python 3",
   "language": "python",
   "name": "python3"
  },
  "language_info": {
   "codemirror_mode": {
    "name": "ipython",
    "version": 3
   },
   "file_extension": ".py",
   "mimetype": "text/x-python",
   "name": "python",
   "nbconvert_exporter": "python",
   "pygments_lexer": "ipython3",
   "version": "3.7.7"
  },
  "toc": {
   "base_numbering": 1,
   "nav_menu": {},
   "number_sections": true,
   "sideBar": true,
   "skip_h1_title": false,
   "title_cell": "Table of Contents",
   "title_sidebar": "Contents",
   "toc_cell": false,
   "toc_position": {},
   "toc_section_display": true,
   "toc_window_display": true
  },
  "varInspector": {
   "cols": {
    "lenName": 16,
    "lenType": 16,
    "lenVar": 40
   },
   "kernels_config": {
    "python": {
     "delete_cmd_postfix": "",
     "delete_cmd_prefix": "del ",
     "library": "var_list.py",
     "varRefreshCmd": "print(var_dic_list())"
    },
    "r": {
     "delete_cmd_postfix": ") ",
     "delete_cmd_prefix": "rm(",
     "library": "var_list.r",
     "varRefreshCmd": "cat(var_dic_list()) "
    }
   },
   "types_to_exclude": [
    "module",
    "function",
    "builtin_function_or_method",
    "instance",
    "_Feature"
   ],
   "window_display": false
  }
 },
 "nbformat": 4,
 "nbformat_minor": 2
}
