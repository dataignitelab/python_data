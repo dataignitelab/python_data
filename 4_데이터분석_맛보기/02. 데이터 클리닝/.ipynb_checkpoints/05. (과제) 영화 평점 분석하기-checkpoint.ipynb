{
 "cells": [
  {
   "cell_type": "markdown",
   "metadata": {},
   "source": [
    "# 문제 1\n",
    "\n",
    "* 데이터파일: `movie_metadata.csv`\n",
    "* 영화의 제목, 감독, 배우, 평점, 예산 등의 정보가 존재\n",
    "* **과연 예산을 많이 쓰면 소비자 평점이 높아질 지 궁금해졌다.**\n",
    "* 산점도를 그려봤더니, 아주 큰 예산을 쓴 영화 몇 개 때문에 상관 관계를 파악할 수가 없다.\n",
    "\n",
    "\n",
    "* 너무 예산이 큰 일부 영화를 제거하고, 다시 분석해봐야 한다.\n",
    "* **예산을 기준으로 `75%` 지점에서 `5 IQR` 만큼 더한 것보다 큰 예산의 영화는 제거하고, 다시 산점도를 그려라.**\n",
    "* 참고: IQR = Q3 - Q1, (Q3 = 75% 지점, Q1 = 25% 지점)\n",
    "\n",
    "![영화평점분석하기1](./images/xDF6n8L.png)"
   ]
  },
  {
   "cell_type": "code",
   "execution_count": null,
   "metadata": {
    "ExecuteTime": {
     "end_time": "2019-05-06T13:23:33.851466Z",
     "start_time": "2019-05-06T13:23:33.335515Z"
    }
   },
   "outputs": [],
   "source": [
    "%matplotlib inline\n",
    "import pandas as pd\n",
    "\n",
    "df = pd.read_csv('data/movie_metadata.csv')"
   ]
  },
  {
   "cell_type": "markdown",
   "metadata": {},
   "source": [
    "# 문제 2"
   ]
  },
  {
   "cell_type": "markdown",
   "metadata": {},
   "source": [
    "* **`movie_metadata.csv`에서 예산이 가장 높은 15개 영화를 제거하고, 산점도를 그려라.**"
   ]
  },
  {
   "cell_type": "code",
   "execution_count": null,
   "metadata": {
    "ExecuteTime": {
     "end_time": "2019-05-06T13:23:34.379671Z",
     "start_time": "2019-05-06T13:23:34.359791Z"
    }
   },
   "outputs": [],
   "source": [
    "%matplotlib inline\n",
    "import pandas as pd\n",
    "\n",
    "df = pd.read_csv('data/movie_metadata.csv')"
   ]
  }
 ],
 "metadata": {
  "hide_input": false,
  "kernelspec": {
   "display_name": "Python 3",
   "language": "python",
   "name": "python3"
  },
  "language_info": {
   "codemirror_mode": {
    "name": "ipython",
    "version": 3
   },
   "file_extension": ".py",
   "mimetype": "text/x-python",
   "name": "python",
   "nbconvert_exporter": "python",
   "pygments_lexer": "ipython3",
   "version": "3.7.7"
  },
  "toc": {
   "base_numbering": 1,
   "nav_menu": {},
   "number_sections": true,
   "sideBar": true,
   "skip_h1_title": false,
   "title_cell": "Table of Contents",
   "title_sidebar": "Contents",
   "toc_cell": false,
   "toc_position": {},
   "toc_section_display": true,
   "toc_window_display": false
  },
  "varInspector": {
   "cols": {
    "lenName": 16,
    "lenType": 16,
    "lenVar": 40
   },
   "kernels_config": {
    "python": {
     "delete_cmd_postfix": "",
     "delete_cmd_prefix": "del ",
     "library": "var_list.py",
     "varRefreshCmd": "print(var_dic_list())"
    },
    "r": {
     "delete_cmd_postfix": ") ",
     "delete_cmd_prefix": "rm(",
     "library": "var_list.r",
     "varRefreshCmd": "cat(var_dic_list()) "
    }
   },
   "types_to_exclude": [
    "module",
    "function",
    "builtin_function_or_method",
    "instance",
    "_Feature"
   ],
   "window_display": false
  }
 },
 "nbformat": 4,
 "nbformat_minor": 2
}
