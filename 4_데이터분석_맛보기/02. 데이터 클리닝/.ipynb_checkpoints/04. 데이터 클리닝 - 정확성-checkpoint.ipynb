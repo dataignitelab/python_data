{
 "cells": [
  {
   "cell_type": "markdown",
   "metadata": {},
   "source": [
    "# 이상점"
   ]
  },
  {
   "cell_type": "markdown",
   "metadata": {},
   "source": [
    "* 이상점 판다하는 기준?\n",
    "* 절대적인 기준은 없다\n",
    "\n",
    "![outlier](./images/outlier.png)"
   ]
  },
  {
   "cell_type": "markdown",
   "metadata": {},
   "source": [
    "* **이상점이 잘 못 된 데이터라면 수정하거나 제거하는 방법이 있다.**\n",
    "* 이상점이 제대로 된 데이터라면? 어떻게 해야 할까?\n",
    "  - 방해가 된다면 없앨 수 있다. \n",
    "  - 의미있는 정보라면 상황에 맞게 판단한다."
   ]
  },
  {
   "cell_type": "code",
   "execution_count": 1,
   "metadata": {
    "ExecuteTime": {
     "end_time": "2019-05-06T06:34:17.086394Z",
     "start_time": "2019-05-06T06:34:16.771552Z"
    }
   },
   "outputs": [],
   "source": [
    "%matplotlib inline"
   ]
  },
  {
   "cell_type": "code",
   "execution_count": 2,
   "metadata": {
    "ExecuteTime": {
     "end_time": "2019-05-06T06:34:17.303646Z",
     "start_time": "2019-05-06T06:34:17.088541Z"
    }
   },
   "outputs": [],
   "source": [
    "import pandas as pd"
   ]
  },
  {
   "cell_type": "markdown",
   "metadata": {
    "ExecuteTime": {
     "end_time": "2019-05-06T06:34:17.315658Z",
     "start_time": "2019-05-06T06:34:17.305145Z"
    }
   },
   "source": [
    "df = pd.read_csv(\"./data/beer.csv\", index_col=0)"
   ]
  },
  {
   "cell_type": "code",
   "execution_count": null,
   "metadata": {},
   "outputs": [],
   "source": []
  },
  {
   "cell_type": "markdown",
   "metadata": {
    "ExecuteTime": {
     "end_time": "2019-05-06T06:34:17.328215Z",
     "start_time": "2019-05-06T06:34:17.317371Z"
    }
   },
   "source": [
    "df.head()\n",
    "\n",
    "### abv: 알콜도수"
   ]
  },
  {
   "cell_type": "code",
   "execution_count": null,
   "metadata": {},
   "outputs": [],
   "source": []
  },
  {
   "cell_type": "markdown",
   "metadata": {
    "ExecuteTime": {
     "end_time": "2019-05-06T06:34:17.428422Z",
     "start_time": "2019-05-06T06:34:17.329453Z"
    }
   },
   "source": [
    "df.plot(kind=\"box\", y=\"abv\")\n",
    "### 3개의 이상점이 발견"
   ]
  },
  {
   "cell_type": "code",
   "execution_count": null,
   "metadata": {},
   "outputs": [],
   "source": []
  },
  {
   "cell_type": "markdown",
   "metadata": {
    "ExecuteTime": {
     "end_time": "2019-05-06T06:34:17.436614Z",
     "start_time": "2019-05-06T06:34:17.429682Z"
    }
   },
   "source": [
    "df[\"abv\"].describe()"
   ]
  },
  {
   "cell_type": "code",
   "execution_count": null,
   "metadata": {},
   "outputs": [],
   "source": []
  },
  {
   "cell_type": "markdown",
   "metadata": {
    "ExecuteTime": {
     "end_time": "2019-05-06T06:34:17.443305Z",
     "start_time": "2019-05-06T06:34:17.438053Z"
    }
   },
   "source": [
    "### 25% 지점을 받아올 수 있음\n",
    "q1 = df[\"abv\"].quantile(0.25) \\\n",
    "q1 "
   ]
  },
  {
   "cell_type": "code",
   "execution_count": null,
   "metadata": {},
   "outputs": [],
   "source": []
  },
  {
   "cell_type": "markdown",
   "metadata": {
    "ExecuteTime": {
     "end_time": "2019-05-06T06:34:17.450970Z",
     "start_time": "2019-05-06T06:34:17.445726Z"
    }
   },
   "source": [
    "### 75% 지점을 받아올 수 있음\n",
    "q3 = df[\"abv\"].quantile(0.75) \\\n",
    "q3"
   ]
  },
  {
   "cell_type": "code",
   "execution_count": null,
   "metadata": {},
   "outputs": [],
   "source": []
  },
  {
   "cell_type": "markdown",
   "metadata": {
    "ExecuteTime": {
     "end_time": "2019-05-06T06:34:17.455291Z",
     "start_time": "2019-05-06T06:34:17.452976Z"
    }
   },
   "source": [
    "iqr = q3 - q1"
   ]
  },
  {
   "cell_type": "code",
   "execution_count": null,
   "metadata": {},
   "outputs": [],
   "source": []
  },
  {
   "cell_type": "markdown",
   "metadata": {
    "ExecuteTime": {
     "end_time": "2019-05-06T06:34:17.463510Z",
     "start_time": "2019-05-06T06:34:17.456832Z"
    }
   },
   "source": [
    "### 이상점 값 구하기\n",
    "### 1.5 * IQR 보다 아래에 있거나(25% 이하), \n",
    "### 1.5 * IQR 보다 위에 있거나(75% 이상)\n",
    "condition = (df['abv'] < q1 - 1.5 * iqr) | (df['abv'] > q3 + 1.5 * iqr) \\\n",
    "condition"
   ]
  },
  {
   "cell_type": "code",
   "execution_count": null,
   "metadata": {},
   "outputs": [],
   "source": []
  },
  {
   "cell_type": "markdown",
   "metadata": {
    "ExecuteTime": {
     "end_time": "2019-05-06T06:34:17.474714Z",
     "start_time": "2019-05-06T06:34:17.465050Z"
    }
   },
   "source": [
    "df[condition]\n",
    "#### 맥주 데이터인데, 소주, 보드카 데이터가 들어가 있음\n",
    "\n",
    "#### 페일은 데이터를 잘 못 입력한 것으로 추정"
   ]
  },
  {
   "cell_type": "code",
   "execution_count": null,
   "metadata": {},
   "outputs": [],
   "source": []
  },
  {
   "cell_type": "markdown",
   "metadata": {
    "ExecuteTime": {
     "end_time": "2019-05-06T06:34:17.479591Z",
     "start_time": "2019-05-06T06:34:17.476108Z"
    }
   },
   "source": [
    "df.loc[2250, \"abv\"] = 0.055"
   ]
  },
  {
   "cell_type": "code",
   "execution_count": null,
   "metadata": {},
   "outputs": [],
   "source": []
  },
  {
   "cell_type": "markdown",
   "metadata": {
    "ExecuteTime": {
     "end_time": "2019-05-06T06:34:17.486108Z",
     "start_time": "2019-05-06T06:34:17.481506Z"
    }
   },
   "source": [
    "df.loc[2250]"
   ]
  },
  {
   "cell_type": "code",
   "execution_count": null,
   "metadata": {},
   "outputs": [],
   "source": []
  },
  {
   "cell_type": "markdown",
   "metadata": {
    "ExecuteTime": {
     "end_time": "2019-05-06T06:34:17.499026Z",
     "start_time": "2019-05-06T06:34:17.487801Z"
    }
   },
   "source": [
    "condition = (df['abv'] < q1 - 1.5 * iqr) | (df['abv'] > q3 + 1.5 * iqr) \\\n",
    "df[condition]"
   ]
  },
  {
   "cell_type": "code",
   "execution_count": null,
   "metadata": {},
   "outputs": [],
   "source": []
  },
  {
   "cell_type": "markdown",
   "metadata": {
    "ExecuteTime": {
     "end_time": "2019-05-06T06:34:17.504872Z",
     "start_time": "2019-05-06T06:34:17.500472Z"
    }
   },
   "source": [
    "df[condition].index"
   ]
  },
  {
   "cell_type": "code",
   "execution_count": null,
   "metadata": {},
   "outputs": [],
   "source": []
  },
  {
   "cell_type": "markdown",
   "metadata": {
    "ExecuteTime": {
     "end_time": "2019-05-06T06:34:17.510900Z",
     "start_time": "2019-05-06T06:34:17.506567Z"
    }
   },
   "source": [
    "df.drop(df[condition].index, inplace=True)"
   ]
  },
  {
   "cell_type": "code",
   "execution_count": null,
   "metadata": {},
   "outputs": [],
   "source": []
  },
  {
   "cell_type": "markdown",
   "metadata": {
    "ExecuteTime": {
     "end_time": "2019-05-06T06:34:17.520778Z",
     "start_time": "2019-05-06T06:34:17.512244Z"
    }
   },
   "source": [
    "condition = (df['abv'] < q1 - 1.5 * iqr) | (df['abv'] > q3 + 1.5 * iqr) \\\n",
    "\n",
    "df[condition]"
   ]
  },
  {
   "cell_type": "code",
   "execution_count": null,
   "metadata": {},
   "outputs": [],
   "source": []
  },
  {
   "cell_type": "markdown",
   "metadata": {
    "ExecuteTime": {
     "end_time": "2019-05-06T06:34:17.618237Z",
     "start_time": "2019-05-06T06:34:17.522439Z"
    }
   },
   "source": [
    "df.plot(kind=\"box\", y=\"abv\")"
   ]
  },
  {
   "cell_type": "code",
   "execution_count": null,
   "metadata": {},
   "outputs": [],
   "source": []
  },
  {
   "cell_type": "markdown",
   "metadata": {},
   "source": [
    "# 관계적 이상점\n",
    "\n",
    "* 키가 188cm 이면 정상\n",
    "* 키가 43kg 이면 정상\n",
    "\n",
    "그런데, 188cm & 43kg 이면 정상일까?\n",
    "\n",
    "\n",
    "관계적 이상점(Relational Outlier): 두 변수의 관계를 고려했을 때 이상한 데이터"
   ]
  },
  {
   "cell_type": "code",
   "execution_count": 3,
   "metadata": {
    "ExecuteTime": {
     "end_time": "2019-05-06T06:34:17.622236Z",
     "start_time": "2019-05-06T06:34:17.619494Z"
    }
   },
   "outputs": [],
   "source": [
    "%matplotlib inline"
   ]
  },
  {
   "cell_type": "code",
   "execution_count": 4,
   "metadata": {
    "ExecuteTime": {
     "end_time": "2019-05-06T06:34:17.625929Z",
     "start_time": "2019-05-06T06:34:17.623903Z"
    }
   },
   "outputs": [],
   "source": [
    "import pandas as pd"
   ]
  },
  {
   "cell_type": "markdown",
   "metadata": {
    "ExecuteTime": {
     "end_time": "2019-05-06T06:34:17.633739Z",
     "start_time": "2019-05-06T06:34:17.627136Z"
    }
   },
   "source": [
    "df = pd.read_csv(\"./data/exam_outlier.csv\")"
   ]
  },
  {
   "cell_type": "code",
   "execution_count": null,
   "metadata": {},
   "outputs": [],
   "source": []
  },
  {
   "cell_type": "markdown",
   "metadata": {
    "ExecuteTime": {
     "end_time": "2019-05-06T06:34:17.643851Z",
     "start_time": "2019-05-06T06:34:17.634931Z"
    }
   },
   "source": [
    "df.head()"
   ]
  },
  {
   "cell_type": "code",
   "execution_count": null,
   "metadata": {},
   "outputs": [],
   "source": []
  },
  {
   "cell_type": "markdown",
   "metadata": {
    "ExecuteTime": {
     "end_time": "2019-05-06T06:34:17.785050Z",
     "start_time": "2019-05-06T06:34:17.646866Z"
    }
   },
   "source": [
    "df.plot(kind=\"scatter\", x=\"reading score\", y=\"writing score\")"
   ]
  },
  {
   "cell_type": "code",
   "execution_count": null,
   "metadata": {},
   "outputs": [],
   "source": []
  },
  {
   "cell_type": "markdown",
   "metadata": {
    "ExecuteTime": {
     "end_time": "2019-05-06T06:34:17.796568Z",
     "start_time": "2019-05-06T06:34:17.787600Z"
    }
   },
   "source": [
    "df.corr()"
   ]
  },
  {
   "cell_type": "code",
   "execution_count": null,
   "metadata": {},
   "outputs": [],
   "source": []
  },
  {
   "cell_type": "markdown",
   "metadata": {
    "ExecuteTime": {
     "end_time": "2019-05-06T06:34:17.808481Z",
     "start_time": "2019-05-06T06:34:17.798339Z"
    }
   },
   "source": [
    "df[df[\"writing score\"] > 100]"
   ]
  },
  {
   "cell_type": "code",
   "execution_count": null,
   "metadata": {},
   "outputs": [],
   "source": []
  },
  {
   "cell_type": "markdown",
   "metadata": {
    "ExecuteTime": {
     "end_time": "2019-05-06T06:34:17.814168Z",
     "start_time": "2019-05-06T06:34:17.809998Z"
    }
   },
   "source": [
    "df.drop(51, inplace=True)"
   ]
  },
  {
   "cell_type": "code",
   "execution_count": null,
   "metadata": {},
   "outputs": [],
   "source": []
  },
  {
   "cell_type": "markdown",
   "metadata": {
    "ExecuteTime": {
     "end_time": "2019-05-06T06:34:17.951201Z",
     "start_time": "2019-05-06T06:34:17.815798Z"
    }
   },
   "source": [
    "df.plot(kind=\"scatter\", x=\"reading score\", y=\"writing score\")"
   ]
  },
  {
   "cell_type": "code",
   "execution_count": null,
   "metadata": {},
   "outputs": [],
   "source": []
  },
  {
   "cell_type": "markdown",
   "metadata": {
    "ExecuteTime": {
     "end_time": "2019-05-06T06:34:17.960362Z",
     "start_time": "2019-05-06T06:34:17.952436Z"
    }
   },
   "source": [
    "df.corr()"
   ]
  },
  {
   "cell_type": "code",
   "execution_count": null,
   "metadata": {},
   "outputs": [],
   "source": []
  },
  {
   "cell_type": "markdown",
   "metadata": {
    "ExecuteTime": {
     "end_time": "2019-05-06T06:34:17.971224Z",
     "start_time": "2019-05-06T06:34:17.961733Z"
    }
   },
   "source": [
    "condition = (df[\"writing score\"] > 90) & (df[\"reading score\"] < 40) \\\n",
    "df[condition]"
   ]
  },
  {
   "cell_type": "code",
   "execution_count": null,
   "metadata": {},
   "outputs": [],
   "source": []
  },
  {
   "cell_type": "markdown",
   "metadata": {
    "ExecuteTime": {
     "end_time": "2019-05-06T06:34:17.976304Z",
     "start_time": "2019-05-06T06:34:17.972786Z"
    }
   },
   "source": [
    "df.drop(373, inplace=True)"
   ]
  },
  {
   "cell_type": "code",
   "execution_count": null,
   "metadata": {},
   "outputs": [],
   "source": []
  },
  {
   "cell_type": "markdown",
   "metadata": {
    "ExecuteTime": {
     "end_time": "2019-05-06T06:34:18.123577Z",
     "start_time": "2019-05-06T06:34:17.978029Z"
    }
   },
   "source": [
    "df.plot(kind=\"scatter\", x=\"reading score\", y=\"writing score\")"
   ]
  },
  {
   "cell_type": "code",
   "execution_count": null,
   "metadata": {},
   "outputs": [],
   "source": []
  },
  {
   "cell_type": "markdown",
   "metadata": {
    "ExecuteTime": {
     "end_time": "2019-05-06T06:34:18.131644Z",
     "start_time": "2019-05-06T06:34:18.124845Z"
    }
   },
   "source": [
    "df.corr()"
   ]
  },
  {
   "cell_type": "code",
   "execution_count": null,
   "metadata": {},
   "outputs": [],
   "source": []
  }
 ],
 "metadata": {
  "hide_input": false,
  "kernelspec": {
   "display_name": "Python 3",
   "language": "python",
   "name": "python3"
  },
  "language_info": {
   "codemirror_mode": {
    "name": "ipython",
    "version": 3
   },
   "file_extension": ".py",
   "mimetype": "text/x-python",
   "name": "python",
   "nbconvert_exporter": "python",
   "pygments_lexer": "ipython3",
   "version": "3.7.7"
  },
  "toc": {
   "base_numbering": 1,
   "nav_menu": {},
   "number_sections": true,
   "sideBar": true,
   "skip_h1_title": false,
   "title_cell": "Table of Contents",
   "title_sidebar": "Contents",
   "toc_cell": false,
   "toc_position": {},
   "toc_section_display": true,
   "toc_window_display": false
  },
  "varInspector": {
   "cols": {
    "lenName": 16,
    "lenType": 16,
    "lenVar": 40
   },
   "kernels_config": {
    "python": {
     "delete_cmd_postfix": "",
     "delete_cmd_prefix": "del ",
     "library": "var_list.py",
     "varRefreshCmd": "print(var_dic_list())"
    },
    "r": {
     "delete_cmd_postfix": ") ",
     "delete_cmd_prefix": "rm(",
     "library": "var_list.r",
     "varRefreshCmd": "cat(var_dic_list()) "
    }
   },
   "types_to_exclude": [
    "module",
    "function",
    "builtin_function_or_method",
    "instance",
    "_Feature"
   ],
   "window_display": false
  }
 },
 "nbformat": 4,
 "nbformat_minor": 2
}
