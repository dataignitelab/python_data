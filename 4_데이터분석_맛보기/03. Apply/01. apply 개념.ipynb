{
 "cells": [
  {
   "cell_type": "markdown",
   "metadata": {},
   "source": [
    "# 함수는 어떻게 정의 하는가?"
   ]
  },
  {
   "cell_type": "markdown",
   "metadata": {},
   "source": [
    "```python\n",
    "def function_name():\n",
    "    # 여기서부터 코드 작성\n",
    "    # Indentation을 맞춰야 함\n",
    "```"
   ]
  },
  {
   "cell_type": "markdown",
   "metadata": {
    "ExecuteTime": {
     "end_time": "2019-05-07T05:35:54.765366Z",
     "start_time": "2019-05-07T05:35:54.761156Z"
    }
   },
   "source": [
    "### 제곱합수\n",
    "def square(x): \\\n",
    "\n",
    "    return x ** 2    "
   ]
  },
  {
   "cell_type": "markdown",
   "metadata": {
    "ExecuteTime": {
     "end_time": "2019-05-07T05:35:54.811467Z",
     "start_time": "2019-05-07T05:35:54.767953Z"
    }
   },
   "source": [
    "square(1) \\\n",
    "square(2) \\\n",
    "square(3) \\\n",
    "square(4) \\\n",
    "square(5)"
   ]
  },
  {
   "cell_type": "code",
   "execution_count": null,
   "metadata": {},
   "outputs": [],
   "source": []
  },
  {
   "cell_type": "markdown",
   "metadata": {
    "ExecuteTime": {
     "end_time": "2019-05-07T05:35:54.822148Z",
     "start_time": "2019-05-07T05:35:54.814434Z"
    }
   },
   "source": [
    "#### n 제곱함수\n",
    "#### square 이름으로서 오버로드 함수를 구현할 수 있으나, Apply 함수에서는 사용할 수 없음\n"
   ]
  },
  {
   "cell_type": "markdown",
   "metadata": {},
   "source": [
    "def square2(x, n):\\\n",
    "\n",
    "    return x ** n"
   ]
  },
  {
   "cell_type": "code",
   "execution_count": null,
   "metadata": {},
   "outputs": [],
   "source": []
  },
  {
   "cell_type": "markdown",
   "metadata": {
    "ExecuteTime": {
     "end_time": "2019-05-07T05:35:54.831166Z",
     "start_time": "2019-05-07T05:35:54.824966Z"
    }
   },
   "source": [
    "square2(1, 3) \\\n",
    "square2(2, 3) \\\n",
    "square2(3, 3) \\\n",
    "square2(4, 3) \\\n",
    "square2(5, 3)"
   ]
  },
  {
   "cell_type": "code",
   "execution_count": null,
   "metadata": {},
   "outputs": [],
   "source": []
  },
  {
   "cell_type": "markdown",
   "metadata": {},
   "source": [
    "# Series 데이터를 apply 함수 적용하기"
   ]
  },
  {
   "cell_type": "code",
   "execution_count": 3,
   "metadata": {
    "ExecuteTime": {
     "end_time": "2019-05-07T05:35:55.233491Z",
     "start_time": "2019-05-07T05:35:54.833269Z"
    }
   },
   "outputs": [],
   "source": [
    "import pandas as pd"
   ]
  },
  {
   "cell_type": "markdown",
   "metadata": {
    "ExecuteTime": {
     "end_time": "2019-05-07T05:35:55.248930Z",
     "start_time": "2019-05-07T05:35:55.235954Z"
    }
   },
   "source": [
    "df = pd.DataFrame({'a': [10, 20, 30], 'b': [20, 30, 40]}) =\n",
    "df"
   ]
  },
  {
   "cell_type": "code",
   "execution_count": null,
   "metadata": {},
   "outputs": [],
   "source": []
  },
  {
   "cell_type": "markdown",
   "metadata": {
    "ExecuteTime": {
     "end_time": "2019-05-07T05:35:55.258462Z",
     "start_time": "2019-05-07T05:35:55.251016Z"
    }
   },
   "source": [
    "df[\"a\"] ** 2"
   ]
  },
  {
   "cell_type": "code",
   "execution_count": null,
   "metadata": {},
   "outputs": [],
   "source": []
  },
  {
   "cell_type": "markdown",
   "metadata": {
    "ExecuteTime": {
     "end_time": "2019-05-07T05:35:55.268057Z",
     "start_time": "2019-05-07T05:35:55.261958Z"
    }
   },
   "source": [
    "#### 1개의 파라미터를 받는 apply 적용 받는 함수라면 파라미터를 생략해서 전달한다."
   ]
  },
  {
   "cell_type": "markdown",
   "metadata": {},
   "source": [
    "df[\"a\"].apply(square)"
   ]
  },
  {
   "cell_type": "code",
   "execution_count": null,
   "metadata": {},
   "outputs": [],
   "source": []
  },
  {
   "cell_type": "markdown",
   "metadata": {
    "ExecuteTime": {
     "end_time": "2019-05-07T05:35:55.278585Z",
     "start_time": "2019-05-07T05:35:55.272471Z"
    }
   },
   "source": [
    "#### 즉, Apply 함수 첫 번째 파라미터는 함수의 이름이 와야 한다."
   ]
  },
  {
   "cell_type": "markdown",
   "metadata": {},
   "source": [
    "df[\"a\"].apply(square2, n=2)"
   ]
  },
  {
   "cell_type": "code",
   "execution_count": null,
   "metadata": {},
   "outputs": [],
   "source": []
  },
  {
   "cell_type": "markdown",
   "metadata": {},
   "source": [
    "# DataFrame 데이터를 apply 함수 적용하기"
   ]
  },
  {
   "cell_type": "markdown",
   "metadata": {
    "ExecuteTime": {
     "end_time": "2019-05-07T05:35:55.291688Z",
     "start_time": "2019-05-07T05:35:55.282802Z"
    }
   },
   "source": [
    "df"
   ]
  },
  {
   "cell_type": "code",
   "execution_count": null,
   "metadata": {},
   "outputs": [],
   "source": []
  },
  {
   "cell_type": "markdown",
   "metadata": {
    "ExecuteTime": {
     "end_time": "2019-05-07T05:35:55.297498Z",
     "start_time": "2019-05-07T05:35:55.293720Z"
    }
   },
   "source": [
    "#### 함수 정의"
   ]
  },
  {
   "cell_type": "markdown",
   "metadata": {},
   "source": [
    "def dispaly(x): \\\n",
    "    \n",
    "    print(x)"
   ]
  },
  {
   "cell_type": "code",
   "execution_count": null,
   "metadata": {},
   "outputs": [],
   "source": []
  },
  {
   "cell_type": "markdown",
   "metadata": {},
   "source": [
    "* 데이터프레임은 컬럼을 전달할 수 있다.\n",
    "* 데이터프레임은 로우를 전달할 수도 있다."
   ]
  },
  {
   "cell_type": "markdown",
   "metadata": {
    "ExecuteTime": {
     "end_time": "2019-05-07T05:35:55.312631Z",
     "start_time": "2019-05-07T05:35:55.299562Z"
    }
   },
   "source": [
    "#### axis=0 은 인덱싱이 로우방향으로, 로우를 차례대로\n",
    "#### axis=\"rows\" 같은 의미\n",
    "\n"
   ]
  },
  {
   "cell_type": "markdown",
   "metadata": {},
   "source": [
    "df.apply(display, axis=0) \\\n",
    "df.apply(display, axis=\"rows\") \\\n",
    "df.apply(display)"
   ]
  },
  {
   "cell_type": "code",
   "execution_count": null,
   "metadata": {},
   "outputs": [],
   "source": []
  },
  {
   "cell_type": "markdown",
   "metadata": {
    "ExecuteTime": {
     "end_time": "2019-05-07T05:35:55.328609Z",
     "start_time": "2019-05-07T05:35:55.314730Z"
    }
   },
   "source": [
    "#### axis=1 은 인덱싱이 컬럼방향으로, 컬럼을 차례대로\n",
    "#### axis=\"columns\" 같은 의미"
   ]
  },
  {
   "cell_type": "markdown",
   "metadata": {},
   "source": [
    "df.apply(display, axis=1) \\\n",
    "df.apply(display, axis=\"columns\")"
   ]
  },
  {
   "cell_type": "code",
   "execution_count": null,
   "metadata": {},
   "outputs": [],
   "source": []
  },
  {
   "cell_type": "markdown",
   "metadata": {},
   "source": [
    "# 파라미터 3개 apply 함수"
   ]
  },
  {
   "cell_type": "markdown",
   "metadata": {
    "ExecuteTime": {
     "end_time": "2019-05-07T05:35:55.339743Z",
     "start_time": "2019-05-07T05:35:55.330669Z"
    }
   },
   "source": [
    "def three_param(x, y, z): \\\n",
    "\n",
    "    return (x + y + z) / 3"
   ]
  },
  {
   "cell_type": "code",
   "execution_count": null,
   "metadata": {},
   "outputs": [],
   "source": []
  },
  {
   "cell_type": "markdown",
   "metadata": {
    "ExecuteTime": {
     "end_time": "2019-05-07T05:35:55.542908Z",
     "start_time": "2019-05-07T05:35:55.341849Z"
    }
   },
   "source": [
    "df.apply(three_param, x=1, y=2, z=3)"
   ]
  },
  {
   "cell_type": "code",
   "execution_count": null,
   "metadata": {},
   "outputs": [],
   "source": []
  },
  {
   "cell_type": "markdown",
   "metadata": {},
   "source": [
    "* apply 함수는 DataFrame을 파라미터로 전달할 경우, columns(기본값) 혹은 rows 값이 전달된다.\n",
    "* 컬럼/로우단위 처리를 할 수 있게 함수를 만들어야 한다. "
   ]
  },
  {
   "cell_type": "markdown",
   "metadata": {
    "ExecuteTime": {
     "end_time": "2019-05-07T05:36:10.042113Z",
     "start_time": "2019-05-07T05:36:10.037254Z"
    }
   },
   "source": [
    "def three_param(df):\n",
    "    \n",
    "    x = df[0]\n",
    "    \n",
    "    y = df[0]\n",
    "    \n",
    "    z = df[0] \n",
    "    \n",
    "    return (x + y + z) / 3"
   ]
  },
  {
   "cell_type": "code",
   "execution_count": null,
   "metadata": {},
   "outputs": [],
   "source": []
  },
  {
   "cell_type": "markdown",
   "metadata": {
    "ExecuteTime": {
     "end_time": "2019-05-07T05:36:11.181212Z",
     "start_time": "2019-05-07T05:36:11.171720Z"
    },
    "scrolled": true
   },
   "source": [
    "df.apply(three_param)"
   ]
  },
  {
   "cell_type": "code",
   "execution_count": null,
   "metadata": {},
   "outputs": [],
   "source": []
  }
 ],
 "metadata": {
  "hide_input": false,
  "kernelspec": {
   "display_name": "Python 3",
   "language": "python",
   "name": "python3"
  },
  "language_info": {
   "codemirror_mode": {
    "name": "ipython",
    "version": 3
   },
   "file_extension": ".py",
   "mimetype": "text/x-python",
   "name": "python",
   "nbconvert_exporter": "python",
   "pygments_lexer": "ipython3",
   "version": "3.7.7"
  },
  "toc": {
   "base_numbering": 1,
   "nav_menu": {},
   "number_sections": true,
   "sideBar": true,
   "skip_h1_title": false,
   "title_cell": "Table of Contents",
   "title_sidebar": "Contents",
   "toc_cell": false,
   "toc_position": {
    "height": "calc(100% - 180px)",
    "left": "10px",
    "top": "150px",
    "width": "321.188px"
   },
   "toc_section_display": true,
   "toc_window_display": true
  },
  "varInspector": {
   "cols": {
    "lenName": 16,
    "lenType": 16,
    "lenVar": 40
   },
   "kernels_config": {
    "python": {
     "delete_cmd_postfix": "",
     "delete_cmd_prefix": "del ",
     "library": "var_list.py",
     "varRefreshCmd": "print(var_dic_list())"
    },
    "r": {
     "delete_cmd_postfix": ") ",
     "delete_cmd_prefix": "rm(",
     "library": "var_list.r",
     "varRefreshCmd": "cat(var_dic_list()) "
    }
   },
   "types_to_exclude": [
    "module",
    "function",
    "builtin_function_or_method",
    "instance",
    "_Feature"
   ],
   "window_display": false
  }
 },
 "nbformat": 4,
 "nbformat_minor": 1
}
