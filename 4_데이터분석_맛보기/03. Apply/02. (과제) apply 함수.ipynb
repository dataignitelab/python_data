{
 "cells": [
  {
   "cell_type": "markdown",
   "metadata": {},
   "source": [
    "# 문제\n",
    "\n",
    "우리는 다음과 같은 코드를 배웠다.\n",
    "\n",
    "* 코드\n",
    "\n",
    "  ```python\n",
    "  def three_param(df):\n",
    "      x = df[0]\n",
    "      y = df[0]\n",
    "      z = df[0]\n",
    "      \n",
    "      return (x + y + z) / 3\n",
    "  \n",
    "  df.apply(three_param)\n",
    "  ```\n",
    "\n",
    "* 출력\n",
    "\n",
    "  ```\n",
    "  a    10.0\n",
    "  b    20.0\n",
    "  dtype: float64\n",
    "  ```\n",
    "  \n",
    "**3개 이상의 파라미터를 받는 함수를 만들고, DataFrame apply의 컬럼함수와 로우함수를 만들어라.**\n",
    "\n",
    "생각해보면 DataFrame 은 컬럼이 상당히 많다, 로우도 또한 상당히 많다. apply 함수는 어떻게 만들어야 할까?"
   ]
  },
  {
   "cell_type": "code",
   "execution_count": null,
   "metadata": {
    "ExecuteTime": {
     "end_time": "2019-05-07T05:20:05.278534Z",
     "start_time": "2019-05-07T05:20:04.875678Z"
    }
   },
   "outputs": [],
   "source": [
    "import pandas as pd"
   ]
  },
  {
   "cell_type": "markdown",
   "metadata": {},
   "source": [
    "# 멀티 컬럼 apply"
   ]
  },
  {
   "cell_type": "code",
   "execution_count": null,
   "metadata": {
    "ExecuteTime": {
     "end_time": "2019-05-07T05:20:05.328053Z",
     "start_time": "2019-05-07T05:20:05.288426Z"
    }
   },
   "outputs": [],
   "source": [
    "df = pd.DataFrame({'a': [10, 20, 30, 40], 'b': [20, 30, 40, 50]}) \n",
    "df"
   ]
  },
  {
   "cell_type": "code",
   "execution_count": null,
   "metadata": {},
   "outputs": [],
   "source": []
  },
  {
   "cell_type": "markdown",
   "metadata": {},
   "source": [
    "# 멀티 로우 apply"
   ]
  },
  {
   "cell_type": "code",
   "execution_count": null,
   "metadata": {
    "ExecuteTime": {
     "end_time": "2019-05-07T05:20:05.328053Z",
     "start_time": "2019-05-07T05:20:05.288426Z"
    }
   },
   "outputs": [],
   "source": [
    "df = pd.DataFrame({'a': [10, 20, 30, 40], 'b': [20, 30, 40, 50]}) \n",
    "df"
   ]
  },
  {
   "cell_type": "code",
   "execution_count": null,
   "metadata": {
    "ExecuteTime": {
     "end_time": "2019-05-07T05:20:05.375668Z",
     "start_time": "2019-05-07T05:20:05.371232Z"
    }
   },
   "outputs": [],
   "source": []
  }
 ],
 "metadata": {
  "hide_input": false,
  "kernelspec": {
   "display_name": "Python 3",
   "language": "python",
   "name": "python3"
  },
  "language_info": {
   "codemirror_mode": {
    "name": "ipython",
    "version": 3
   },
   "file_extension": ".py",
   "mimetype": "text/x-python",
   "name": "python",
   "nbconvert_exporter": "python",
   "pygments_lexer": "ipython3",
   "version": "3.7.7"
  },
  "toc": {
   "base_numbering": 1,
   "nav_menu": {},
   "number_sections": true,
   "sideBar": true,
   "skip_h1_title": false,
   "title_cell": "Table of Contents",
   "title_sidebar": "Contents",
   "toc_cell": false,
   "toc_position": {},
   "toc_section_display": true,
   "toc_window_display": true
  },
  "varInspector": {
   "cols": {
    "lenName": 16,
    "lenType": 16,
    "lenVar": 40
   },
   "kernels_config": {
    "python": {
     "delete_cmd_postfix": "",
     "delete_cmd_prefix": "del ",
     "library": "var_list.py",
     "varRefreshCmd": "print(var_dic_list())"
    },
    "r": {
     "delete_cmd_postfix": ") ",
     "delete_cmd_prefix": "rm(",
     "library": "var_list.r",
     "varRefreshCmd": "cat(var_dic_list()) "
    }
   },
   "types_to_exclude": [
    "module",
    "function",
    "builtin_function_or_method",
    "instance",
    "_Feature"
   ],
   "window_display": false
  }
 },
 "nbformat": 4,
 "nbformat_minor": 2
}
