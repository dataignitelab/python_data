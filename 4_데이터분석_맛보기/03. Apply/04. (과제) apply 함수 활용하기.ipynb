{
 "cells": [
  {
   "cell_type": "markdown",
   "metadata": {},
   "source": [
    "# 문제 1\n",
    "\n",
    "* 결측치를 구하는 apply 함수를 만들었다.\n",
    "* **결측치를의 비율를 구하는 `proportion_missing_value` 이름의 apply 함수를 만들어라**\n",
    "* **데이터의 결측 비율를 구하는 `data_proportion` 이름의 apply 함수를 만들어라**"
   ]
  },
  {
   "cell_type": "code",
   "execution_count": null,
   "metadata": {
    "ExecuteTime": {
     "end_time": "2019-05-07T05:59:30.314778Z",
     "start_time": "2019-05-07T05:59:29.916588Z"
    }
   },
   "outputs": [],
   "source": [
    "import numpy as np\n",
    "import pandas as pd"
   ]
  },
  {
   "cell_type": "code",
   "execution_count": null,
   "metadata": {
    "ExecuteTime": {
     "end_time": "2019-05-07T05:59:30.331023Z",
     "start_time": "2019-05-07T05:59:30.317682Z"
    }
   },
   "outputs": [],
   "source": [
    "titanic = pd.read_csv(\"./data/titanic.csv\")"
   ]
  },
  {
   "cell_type": "code",
   "execution_count": null,
   "metadata": {
    "ExecuteTime": {
     "end_time": "2019-05-07T05:59:30.340927Z",
     "start_time": "2019-05-07T05:59:30.333822Z"
    }
   },
   "outputs": [],
   "source": [
    "def get_missing_value_count(dataframe):\n",
    "    # TODO\n",
    "    pass"
   ]
  },
  {
   "cell_type": "code",
   "execution_count": null,
   "metadata": {
    "ExecuteTime": {
     "end_time": "2019-05-07T05:59:30.366826Z",
     "start_time": "2019-05-07T05:59:30.343815Z"
    }
   },
   "outputs": [],
   "source": [
    "titanic.apply(get_missing_value_count)"
   ]
  },
  {
   "cell_type": "markdown",
   "metadata": {},
   "source": [
    "**결측치를의 비율를 구하는 `proportion_missing_value` 이름의 apply 함수를 만들어라**"
   ]
  },
  {
   "cell_type": "code",
   "execution_count": null,
   "metadata": {
    "ExecuteTime": {
     "end_time": "2019-05-07T05:59:30.417911Z",
     "start_time": "2019-05-07T05:59:30.398980Z"
    }
   },
   "outputs": [],
   "source": [
    "def proportion_missing_value(dataframe):\n",
    "    # TODO\n",
    "    pass"
   ]
  },
  {
   "cell_type": "code",
   "execution_count": null,
   "metadata": {
    "ExecuteTime": {
     "end_time": "2019-05-07T05:59:30.437275Z",
     "start_time": "2019-05-07T05:59:30.420270Z"
    }
   },
   "outputs": [],
   "source": [
    "titanic.apply(proportion_missing_value)"
   ]
  },
  {
   "cell_type": "markdown",
   "metadata": {},
   "source": [
    "**데이터의 결측 비율를 구하는 `data_proportion` 이름의 apply 함수를 만들어라**"
   ]
  },
  {
   "cell_type": "code",
   "execution_count": 1,
   "metadata": {
    "ExecuteTime": {
     "end_time": "2019-05-07T06:02:34.531558Z",
     "start_time": "2019-05-07T06:02:34.527260Z"
    }
   },
   "outputs": [],
   "source": [
    "def data_proportion(dataframe):\n",
    "    pass"
   ]
  },
  {
   "cell_type": "code",
   "execution_count": null,
   "metadata": {
    "ExecuteTime": {
     "end_time": "2019-05-07T05:59:30.555645Z",
     "start_time": "2019-05-07T05:59:30.445405Z"
    }
   },
   "outputs": [],
   "source": [
    "titanic.apply(data_proportion)"
   ]
  },
  {
   "cell_type": "markdown",
   "metadata": {},
   "source": [
    "# 문제 2\n",
    "\n",
    "* **`row`의 결측치를 구해라**"
   ]
  },
  {
   "cell_type": "code",
   "execution_count": null,
   "metadata": {},
   "outputs": [],
   "source": []
  },
  {
   "cell_type": "markdown",
   "metadata": {},
   "source": [
    "# 문제 3\n",
    "\n",
    "* **문제 2에서 구한 `count_missing_val`컬럼을 이용해서 누락값이 1개 이상 데이터만 추출해라**"
   ]
  },
  {
   "cell_type": "code",
   "execution_count": null,
   "metadata": {
    "ExecuteTime": {
     "end_time": "2019-05-07T05:59:32.231534Z",
     "start_time": "2019-05-07T05:59:32.159547Z"
    }
   },
   "outputs": [],
   "source": []
  }
 ],
 "metadata": {
  "hide_input": false,
  "kernelspec": {
   "display_name": "Python 3",
   "language": "python",
   "name": "python3"
  },
  "language_info": {
   "codemirror_mode": {
    "name": "ipython",
    "version": 3
   },
   "file_extension": ".py",
   "mimetype": "text/x-python",
   "name": "python",
   "nbconvert_exporter": "python",
   "pygments_lexer": "ipython3",
   "version": "3.7.3"
  },
  "toc": {
   "base_numbering": 1,
   "nav_menu": {},
   "number_sections": true,
   "sideBar": true,
   "skip_h1_title": false,
   "title_cell": "Table of Contents",
   "title_sidebar": "Contents",
   "toc_cell": false,
   "toc_position": {},
   "toc_section_display": true,
   "toc_window_display": false
  },
  "varInspector": {
   "cols": {
    "lenName": 16,
    "lenType": 16,
    "lenVar": 40
   },
   "kernels_config": {
    "python": {
     "delete_cmd_postfix": "",
     "delete_cmd_prefix": "del ",
     "library": "var_list.py",
     "varRefreshCmd": "print(var_dic_list())"
    },
    "r": {
     "delete_cmd_postfix": ") ",
     "delete_cmd_prefix": "rm(",
     "library": "var_list.r",
     "varRefreshCmd": "cat(var_dic_list()) "
    }
   },
   "types_to_exclude": [
    "module",
    "function",
    "builtin_function_or_method",
    "instance",
    "_Feature"
   ],
   "window_display": false
  }
 },
 "nbformat": 4,
 "nbformat_minor": 2
}
