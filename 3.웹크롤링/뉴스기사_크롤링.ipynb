{
 "cells": [
  {
   "cell_type": "code",
   "execution_count": 3,
   "metadata": {},
   "outputs": [],
   "source": [
    "import os, re\n",
    "import urllib.request as ur\n",
    "from bs4 import BeautifulSoup as bs\n",
    "# os.chdir(r'J:\\one-drive 20200728\\MyScript\\python\\final_git_hub')\n"
   ]
  },
  {
   "cell_type": "code",
   "execution_count": 23,
   "metadata": {},
   "outputs": [],
   "source": [
    "url='https://media.daum.net/'\n",
    "# 마법의 명령어\n",
    "soup=bs(ur.urlopen(url).read(),'html.parser')"
   ]
  },
  {
   "cell_type": "code",
   "execution_count": 24,
   "metadata": {},
   "outputs": [
    {
     "name": "stdout",
     "output_type": "stream",
     "text": [
      "[<div class=\"item_issue\">\n",
      "<a class=\"link_thumb\" data-tiara-custom=\"contentUniqueKey=hamny-20200820225602050\" data-tiara-id=\"20200820225602050\" data-tiara-layer=\"article_thumb\" data-tiara-ordnum=\"1\" data-tiara-type=\"harmony\" href=\"https://news.v.daum.net/v/20200820225602050\">\n",
      "<img \"만들=\"\" alt=\"정경심 \" class=\"thumb_g\" src=\"https://img1.daumcdn.net/thumb/S254x156ht.u/?fname=https%3A%2F%2Ft1.daumcdn.net%2Fnews%2F202008%2F20%2Fseoul%2F20200820225603196cdhl.jpg&amp;scode=media\" 보니=\"\" 불가능\"..檢=\"\" 위조,=\"\" 표창장=\"\" 필요없다\"\"=\"\" 해=\"\"/>\n",
      "</a>\n",
      "<div class=\"cont_thumb\">\n",
      "<strong class=\"tit_thumb\">\n",
      "<a class=\"link_txt\" data-tiara-custom=\"contentUniqueKey=hamny-20200820225602050\" data-tiara-id=\"20200820225602050\" data-tiara-layer=\"article_main\" data-tiara-ordnum=\"1\" data-tiara-type=\"harmony\" href=\"https://news.v.daum.net/v/20200820225602050\">정경심 \"표창장 위조, 해 보니 불가능\"..檢 \"만들 필요없다\"</a>\n",
      "</strong>\n",
      "<span class=\"info_thumb\">서울신문</span>\n",
      "</div>\n",
      "</div>, <div class=\"item_issue\">\n",
      "<a class=\"link_thumb\" data-tiara-custom=\"contentUniqueKey=hamny-20200820214011941\" data-tiara-id=\"20200820214011941\" data-tiara-layer=\"article_thumb\" data-tiara-ordnum=\"1\" data-tiara-type=\"harmony\" href=\"https://news.v.daum.net/v/20200820214011941\">\n",
      "<img \"양아치\"=\"\" '통계=\"\" alt=\"기재위서 \" class=\"thumb_g\" src=\"https://img1.daumcdn.net/thumb/S254x156ht.u/?fname=https%3A%2F%2Ft1.daumcdn.net%2Fnews%2F202008%2F20%2FNEWS1%2F20200820214012125oxgx.jpg&amp;scode=media\" 것\"=\"\" 고성..與도=\"\" 물타기'=\"\" 어린=\"\" 지적\"=\"\" 홍남기=\"\"/>\n",
      "</a>\n",
      "<div class=\"cont_thumb\">\n",
      "<strong class=\"tit_thumb\">\n",
      "<a class=\"link_txt\" data-tiara-custom=\"contentUniqueKey=hamny-20200820214011941\" data-tiara-id=\"20200820214011941\" data-tiara-layer=\"article_main\" data-tiara-ordnum=\"1\" data-tiara-type=\"harmony\" href=\"https://news.v.daum.net/v/20200820214011941\">기재위서 \"어린 것\" \"양아치\" 고성..與도 홍남기 '통계 물타기' 지적</a>\n",
      "</strong>\n",
      "<span class=\"info_thumb\">뉴스1</span>\n",
      "</div>\n",
      "</div>, <div class=\"item_issue\">\n",
      "<a class=\"link_thumb\" data-tiara-custom=\"contentUniqueKey=hamny-20200820212211612\" data-tiara-id=\"20200820212211612\" data-tiara-layer=\"article_thumb\" data-tiara-ordnum=\"1\" data-tiara-type=\"harmony\" href=\"https://news.v.daum.net/v/20200820212211612\">\n",
      "<img alt=\"美, 홍콩 범죄인 인도·면세 등 3개 협정 중단·종료..中, 美-홍콩 사법공조 중단\" class=\"thumb_g\" src=\"https://img1.daumcdn.net/thumb/S254x156ht.u/?fname=https%3A%2F%2Ft1.daumcdn.net%2Fnews%2F202008%2F20%2FYTN%2F20200820212211530qzwn.jpg&amp;scode=media\"/>\n",
      "</a>\n",
      "<div class=\"cont_thumb\">\n",
      "<strong class=\"tit_thumb\">\n",
      "<a class=\"link_txt\" data-tiara-custom=\"contentUniqueKey=hamny-20200820212211612\" data-tiara-id=\"20200820212211612\" data-tiara-layer=\"article_main\" data-tiara-ordnum=\"1\" data-tiara-type=\"harmony\" href=\"https://news.v.daum.net/v/20200820212211612\">美, 홍콩 범죄인 인도·면세 등 3개 협정 중단·종료..中, 美-홍콩 사법공조 중단</a>\n",
      "</strong>\n",
      "<span class=\"info_thumb\">YTN</span>\n",
      "</div>\n",
      "</div>, <div class=\"item_issue\">\n",
      "<a class=\"link_thumb\" data-tiara-custom=\"contentUniqueKey=hamny-20200820184049374\" data-tiara-id=\"20200820184049374\" data-tiara-layer=\"article_thumb\" data-tiara-ordnum=\"1\" data-tiara-type=\"harmony\" href=\"https://news.v.daum.net/v/20200820184049374\">\n",
      "<img alt=\"취약층 근로소득 급감에도 정부는 \" class=\"thumb_g\" src=\"https://img1.daumcdn.net/thumb/S254x156ht.u/?fname=https%3A%2F%2Ft1.daumcdn.net%2Fnews%2F202008%2F20%2Fsegye%2F20200820184049222dkca.jpg&amp;scode=media\" 분배=\"\" 잘됐다\"\"=\"\"/>\n",
      "</a>\n",
      "<div class=\"cont_thumb\">\n",
      "<strong class=\"tit_thumb\">\n",
      "<a class=\"link_txt\" data-tiara-custom=\"contentUniqueKey=hamny-20200820184049374\" data-tiara-id=\"20200820184049374\" data-tiara-layer=\"article_main\" data-tiara-ordnum=\"1\" data-tiara-type=\"harmony\" href=\"https://news.v.daum.net/v/20200820184049374\">취약층 근로소득 급감에도 정부는 \"분배 잘됐다\"</a>\n",
      "</strong>\n",
      "<span class=\"info_thumb\">세계일보</span>\n",
      "</div>\n",
      "</div>]\n"
     ]
    }
   ],
   "source": [
    "# 특정 클래스 속성을 출력하기\n",
    "print(soup.find_all('div', {\"class\" : \"item_issue\"}))"
   ]
  },
  {
   "cell_type": "code",
   "execution_count": 25,
   "metadata": {},
   "outputs": [
    {
     "name": "stdout",
     "output_type": "stream",
     "text": [
      "[<a href=\"#kakaoBody\">본문 바로가기</a>, <a href=\"#kakaoGnb\">메뉴 바로가기</a>, <a data-tiara-layer=\"GNB default service_news\" href=\"https://news.daum.net/\" id=\"kakaoServiceLogo\"><span class=\"ir_wa\">뉴스</span></a>, <a class=\"link_services link_services1\" data-tiara-layer=\"service_enter\" href=\"https://entertain.daum.net\"><span class=\"ir_wa\">연예</span></a>, <a class=\"link_services link_services2\" data-tiara-layer=\"service_sports\" href=\"https://sports.daum.net\"><span class=\"ir_wa\">스포츠</span></a>]\n"
     ]
    }
   ],
   "source": [
    "# a 태그 5개만 출력해보기\n",
    "print(soup.find_all('a')[:5])"
   ]
  },
  {
   "cell_type": "code",
   "execution_count": 26,
   "metadata": {},
   "outputs": [
    {
     "name": "stdout",
     "output_type": "stream",
     "text": [
      "#kakaoBody\n",
      "#kakaoGnb\n",
      "https://news.daum.net/\n",
      "https://entertain.daum.net\n",
      "https://sports.daum.net\n"
     ]
    }
   ],
   "source": [
    "# a 태그의 링크 5개만 출력해보기\n",
    "for i in soup.find_all('a')[:5]:\n",
    "\tprint(i.get('href'))"
   ]
  },
  {
   "cell_type": "code",
   "execution_count": 27,
   "metadata": {},
   "outputs": [],
   "source": [
    "# 특정기사 본문 저장하기 \n",
    "article1 ='https://news.v.daum.net/v/20200427090630709'"
   ]
  },
  {
   "cell_type": "code",
   "execution_count": 28,
   "metadata": {},
   "outputs": [],
   "source": [
    "# soup2 객체로 열기 \n",
    "soup2 = bs(ur.urlopen(article1).read(),'html.parser')"
   ]
  },
  {
   "cell_type": "code",
   "execution_count": 29,
   "metadata": {},
   "outputs": [
    {
     "name": "stdout",
     "output_type": "stream",
     "text": [
      "더불어민주당과 정부는 27일 초·중·고 가정에 채소와 과일을 담은 '농산물 꾸러미'를 지원하는 사업을 다음달부터 시행하고 8개 광역지방자치단체부터 시작해 확대한다고 밝혔다.\n",
      "이인영 원내대표는 이날 국회 의원회관에서 열린 '당정 협의회'에서 \"학생에게 신선한 농산물을 직접 공급하는 방안에 서울, 경기도 등 8개 지자체가 참여하기로 했다\"며 \"예산 준비 등 현실적 문제로 참여를 망설이는 지자체가 많다. 준비가 갖춰진 곳부터 추진하겠다\"고 말했다.\n",
      "Translated by kakao i\n",
      "\n",
      "(서울=뉴스1) 김민성 기자,정연주 기자 = 더불어민주당과 정부는 27일 초·중·고 가정에 채소와 과일을 담은 '농산물 꾸러미'를 지원하는 사업을 다음달부터 시행하고 8개 광역지방자치단체부터 시작해 확대한다고 밝혔다. \n",
      "이인영 원내대표는 이날 국회 의원회관에서 열린 '당정 협의회'에서 \"학생에게 신선한 농산물을 직접 공급하는 방안에 서울, 경기도 등 8개 지자체가 참여하기로 했다\"며 \"예산 준비 등 현실적 문제로 참여를 망설이는 지자체가 많다. 준비가 갖춰진 곳부터 추진하겠다\"고 말했다.\n",
      "우선 '농산물 꾸러미 사업'에 참여 의사를 밝힌 지자체는 Δ서울 Δ광주 Δ대전 Δ경기 Δ충북 Δ전북 Δ전남 Δ경남 등 8곳이며 364만명 대상 1인당 평균 3만원 수준, 예산 총액은 약 1093억원이다.\n",
      "현재 참여 검토 중인 지자체는 세종시와 강원도 등 2곳으로 파악됐다.\n",
      "이 원내대표는 \"코로나19로 개학이 연기되며 학교 급식이 중단됐고, 급식업체와 농업인이 어려움을 겪고 있다\"며 \"꾸러미 사업이 모두에게 도움이 될 수 있도록 당과 정부가 머리를 맞대고 지혜를 모으겠다\"고 강조했다.\n",
      "조정식 정책위의장은 \"당정협의를 통해 추진 방안이 확정되면, 초중고 가정에 5월부터 꾸러미가 공급될 것\"이라며 \"공급방식은 현물배송, 온라인 쿠폰 배송 농축수산물전문매장 쿠폰 지급 등 공급 방식을 다양화할 것이라고 말했다.\n",
      "조 정책위의장은 \"아직 이 사업에 참여 여부를 확정하지 않은 지역은 부산, 대구 인천 울산 충남 경북 제주 등 7곳인데 미참여 지자체에 대해서도 추후 토의해 나갈 예정이며 교육재난지원금 등 다른 사업도 함께 검토 중\"이라고 설명했다. \n",
      "유은혜 교육부총리 겸 교육부 장관은 \"이번 지원사업이 학부모의 식자재 가계 부담을 줄이고 자녀 건강에 보탬이 될 것\"이라며 \"생산 농가에 조금이라도 도움이 될 수 있도록 여당에서 적극적으로 지원해달라\"고 당부했다.\n",
      "김현수 농축산식품부 장관은 \"농식품부는 세 차례 긴급 조치로 공공기관 친환경 농산물 구매 캠페인과 자가격리자 꾸러미 공급 등으로 1645톤의 활로를 지원했다\"며 \"꾸러미 사업 추진 방안 확대되면 농업인 소상공인에 도움이 될 것\"이라고 말했다.\n",
      "이재명 경기지사는 \"비저장성 농산물은 일정 기간 지나면 폐기해야 한다. 당에서 정부와 함께 농산물 판로를 만들어주신 데 대해 감사하다\"고 말했다.\n",
      "이재정 경기도교육감은 \"지난 9일부터 개학했기 때문에, 그 기간 지나간 과정의 급식을 어떻게 처리할지도 교육청으로서는 하나의 과제\"라며 \"우리가 더 연구하고 방안을 찾아야 한다\"고 언급했다.\n",
      "ms@news1.kr \n"
     ]
    }
   ],
   "source": [
    "# 특정기사 본문 출력하기 \n",
    "for i in soup2.find_all('p'):\n",
    "    print(i.text)"
   ]
  },
  {
   "cell_type": "code",
   "execution_count": 30,
   "metadata": {},
   "outputs": [],
   "source": [
    "# 'links.txt\"라는 제목의 쓰기 전용 파일을 열어줍니다.  \n",
    "with open('links.txt','w') as f:\n",
    "    # 링크 파일만 모으기 \n",
    "    for i in soup.find_all('div',{\"class\":\"item_issue\"}):\n",
    "        f.write(i.find_all('a')[0].get('href')+'\\n' )"
   ]
  },
  {
   "cell_type": "code",
   "execution_count": 31,
   "metadata": {},
   "outputs": [],
   "source": [
    "# 기사 모으기\n",
    "url='https://news.daum.net/'\n",
    "soup=bs(ur.urlopen(url).read(),'html.parser')\n",
    "with open('article_total.txt','w') as f:\n",
    "    for i in soup.find_all('div',{\"class\":\"item_issue\"}):\n",
    "        try:\n",
    "            # 여기서 try로 예외를 지정해주는 이유는 각 명령어를 실행하다가 혹시 그 어떤 곳에서 중단되더라도 마지막까지 실행되도록 하기 위해서입니다. \n",
    "            f.write(i.text+'\\n')\n",
    "        # 제목을 추출하는 명령어입니다. '\\n'를 붙이는 이유는 제목이 끝난 후 한 줄을 띄워주기 위해서입니다. 이하 동일합니다\n",
    "            f.write(i.find_all('a')[0].get('href')+ '\\n')\n",
    "        # 각 영역(div) 안에서 'a' 태그를 추출해내고, 그 안에서 하이퍼링크('href') 주소를 얻어냅니다. 그것을 바로 파일로 저장하고, 한 칸 띄워줍니다. \n",
    "            soup2=bs(ur.urlopen(i.find_all('a')[0].get('href') ).read(),'html.parser')\n",
    "        # 위에서 얻어낸 하이퍼링크 주소로 곧바로 뷰티풀소프 객체로 다시 저장합니다. \n",
    "            for j in soup2.find_all('p'):\n",
    "        # 다시 문단만 추출해냅니다. 기사 본문을 모을 수 있습니다. \n",
    "                f.write(j.text)\n",
    "        # 추출한 문단을 파일로 저장합니다. \n",
    "        except:\n",
    "            pass"
   ]
  },
  {
   "cell_type": "code",
   "execution_count": null,
   "metadata": {},
   "outputs": [],
   "source": []
  },
  {
   "cell_type": "code",
   "execution_count": null,
   "metadata": {},
   "outputs": [],
   "source": []
  },
  {
   "cell_type": "code",
   "execution_count": null,
   "metadata": {},
   "outputs": [],
   "source": []
  },
  {
   "cell_type": "code",
   "execution_count": null,
   "metadata": {},
   "outputs": [],
   "source": []
  },
  {
   "cell_type": "code",
   "execution_count": null,
   "metadata": {},
   "outputs": [],
   "source": []
  },
  {
   "cell_type": "code",
   "execution_count": null,
   "metadata": {},
   "outputs": [],
   "source": [
    "\n"
   ]
  },
  {
   "cell_type": "code",
   "execution_count": null,
   "metadata": {},
   "outputs": [],
   "source": []
  }
 ],
 "metadata": {
  "kernelspec": {
   "display_name": "base",
   "language": "python",
   "name": "base"
  },
  "language_info": {
   "codemirror_mode": {
    "name": "ipython",
    "version": 3
   },
   "file_extension": ".py",
   "mimetype": "text/x-python",
   "name": "python",
   "nbconvert_exporter": "python",
   "pygments_lexer": "ipython3",
   "version": "3.7.6"
  }
 },
 "nbformat": 4,
 "nbformat_minor": 4
}
